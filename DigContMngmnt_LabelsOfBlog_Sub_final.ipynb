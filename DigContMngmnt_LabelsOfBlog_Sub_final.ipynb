{
 "cells": [
  {
   "cell_type": "markdown",
   "metadata": {},
   "source": [
    "PROJECT OBJECTIVE: The need is to build a NLP classifier which can use input text parameters to determine the label/s of of the blog.\n",
    "\n",
    "Steps and tasks:\n",
    "1. Import and analyse the data set.\n",
    "2. Perform data pre-processing on the data:\n",
    "    - Data cleansing by removing unwanted characters, spaces, stop words etc. Convert text to lowercase.\n",
    "    - Target/label merger and transformation\n",
    "    - Train and test split\n",
    "    - Vectorisation, etc.\n",
    "3. Design, train, tune and test the best text classifier.\n",
    "4. Display and explain detail the classification report\n",
    "5. Print the true vs predicted labels for any 5 entries from the dataset.\n",
    "\n",
    "\n",
    "Hint: The aim here Is to import the text, process it such a way that it can be taken"
   ]
  },
  {
   "cell_type": "markdown",
   "metadata": {},
   "source": [
    "### Approach Taken:\n",
    "- Importing Libraries and Data\n",
    "- EDA\n",
    "    - Exploring and visualizing the data\n",
    "- Data Processing\n",
    "    - Null values\n",
    "    - Converting sequential age data to groups of 3\n",
    "    - Undersampling & Oversampling\n",
    "        - as few topics has very high presence compared to others and creating a high class imbalance\n",
    "        - Truncated the classes having high class dominance\n",
    "    - Data cleansing by removing unwanted characters, spaces, stop words etc. Convert text to lowercase.\n",
    "    - Target/label merger and transformation\n",
    "    - Train and test split\n",
    "    - Vectorisation\n",
    "        - Countvectorizer\n",
    "        - tfidfvectorizer\n",
    "        - we have tried out both but it was suggested to use countvectorizer over tfidf in many forums and libraries\n",
    "    - Feature selection\n",
    "        - Chi-square test measures dependence between stochastic variables\n",
    "    - Multilabel binarizer for target\n",
    "        \n",
    "- Model Creation\n",
    "    - OneVsRestClassifier - used for multi class classification with different algos\n",
    "        - MultinimialNB\n",
    "        - BernoulliNB\n",
    "        - RandomForest\n",
    "        - Dense Network\n",
    "        \n",
    "- Additiona Details\n",
    "    - Attempted the models with and without undersampling and with undersampling, we got comparatively better results for unndersampled data, otherwise models were becoming biased towards few topic\n"
   ]
  },
  {
   "cell_type": "markdown",
   "metadata": {},
   "source": [
    "### Import Libraries"
   ]
  },
  {
   "cell_type": "code",
   "execution_count": 1,
   "metadata": {},
   "outputs": [
    {
     "name": "stderr",
     "output_type": "stream",
     "text": [
      "Using TensorFlow backend.\n"
     ]
    }
   ],
   "source": [
    "import nltk\n",
    "from nltk.stem import WordNetLemmatizer\n",
    "lemmatizer = WordNetLemmatizer()\n",
    "import json\n",
    "import pickle\n",
    "\n",
    "import pandas as pd\n",
    "import numpy as np\n",
    "from keras.models import Sequential\n",
    "from keras.layers import Dense, Activation, Dropout\n",
    "from keras.optimizers import SGD\n",
    "import random\n",
    "from nltk.chat.util import Chat, reflections\n",
    "import copy"
   ]
  },
  {
   "cell_type": "code",
   "execution_count": 2,
   "metadata": {},
   "outputs": [],
   "source": [
    "import matplotlib.pyplot as plt\n",
    "%matplotlib inline\n",
    "import seaborn as sns\n",
    "from sklearn.model_selection import train_test_split\n",
    "from sklearn.feature_extraction.text import TfidfVectorizer"
   ]
  },
  {
   "cell_type": "markdown",
   "metadata": {},
   "source": [
    "### Importing blogs csv"
   ]
  },
  {
   "cell_type": "code",
   "execution_count": 3,
   "metadata": {},
   "outputs": [],
   "source": [
    "blogs=pd.read_csv('blogtext.csv')"
   ]
  },
  {
   "cell_type": "code",
   "execution_count": 4,
   "metadata": {},
   "outputs": [
    {
     "data": {
      "text/html": [
       "<div>\n",
       "<style scoped>\n",
       "    .dataframe tbody tr th:only-of-type {\n",
       "        vertical-align: middle;\n",
       "    }\n",
       "\n",
       "    .dataframe tbody tr th {\n",
       "        vertical-align: top;\n",
       "    }\n",
       "\n",
       "    .dataframe thead th {\n",
       "        text-align: right;\n",
       "    }\n",
       "</style>\n",
       "<table border=\"1\" class=\"dataframe\">\n",
       "  <thead>\n",
       "    <tr style=\"text-align: right;\">\n",
       "      <th></th>\n",
       "      <th>id</th>\n",
       "      <th>gender</th>\n",
       "      <th>age</th>\n",
       "      <th>topic</th>\n",
       "      <th>sign</th>\n",
       "      <th>date</th>\n",
       "      <th>text</th>\n",
       "    </tr>\n",
       "  </thead>\n",
       "  <tbody>\n",
       "    <tr>\n",
       "      <th>0</th>\n",
       "      <td>2059027</td>\n",
       "      <td>male</td>\n",
       "      <td>15</td>\n",
       "      <td>Student</td>\n",
       "      <td>Leo</td>\n",
       "      <td>14,May,2004</td>\n",
       "      <td>Info has been found (+/- 100 pages,...</td>\n",
       "    </tr>\n",
       "    <tr>\n",
       "      <th>1</th>\n",
       "      <td>2059027</td>\n",
       "      <td>male</td>\n",
       "      <td>15</td>\n",
       "      <td>Student</td>\n",
       "      <td>Leo</td>\n",
       "      <td>13,May,2004</td>\n",
       "      <td>These are the team members:   Drewe...</td>\n",
       "    </tr>\n",
       "    <tr>\n",
       "      <th>2</th>\n",
       "      <td>2059027</td>\n",
       "      <td>male</td>\n",
       "      <td>15</td>\n",
       "      <td>Student</td>\n",
       "      <td>Leo</td>\n",
       "      <td>12,May,2004</td>\n",
       "      <td>In het kader van kernfusie op aarde...</td>\n",
       "    </tr>\n",
       "    <tr>\n",
       "      <th>3</th>\n",
       "      <td>2059027</td>\n",
       "      <td>male</td>\n",
       "      <td>15</td>\n",
       "      <td>Student</td>\n",
       "      <td>Leo</td>\n",
       "      <td>12,May,2004</td>\n",
       "      <td>testing!!!  testing!!!</td>\n",
       "    </tr>\n",
       "    <tr>\n",
       "      <th>4</th>\n",
       "      <td>3581210</td>\n",
       "      <td>male</td>\n",
       "      <td>33</td>\n",
       "      <td>InvestmentBanking</td>\n",
       "      <td>Aquarius</td>\n",
       "      <td>11,June,2004</td>\n",
       "      <td>Thanks to Yahoo!'s Toolbar I can ...</td>\n",
       "    </tr>\n",
       "  </tbody>\n",
       "</table>\n",
       "</div>"
      ],
      "text/plain": [
       "        id gender  age              topic      sign          date  \\\n",
       "0  2059027   male   15            Student       Leo   14,May,2004   \n",
       "1  2059027   male   15            Student       Leo   13,May,2004   \n",
       "2  2059027   male   15            Student       Leo   12,May,2004   \n",
       "3  2059027   male   15            Student       Leo   12,May,2004   \n",
       "4  3581210   male   33  InvestmentBanking  Aquarius  11,June,2004   \n",
       "\n",
       "                                                text  \n",
       "0             Info has been found (+/- 100 pages,...  \n",
       "1             These are the team members:   Drewe...  \n",
       "2             In het kader van kernfusie op aarde...  \n",
       "3                   testing!!!  testing!!!            \n",
       "4               Thanks to Yahoo!'s Toolbar I can ...  "
      ]
     },
     "execution_count": 4,
     "metadata": {},
     "output_type": "execute_result"
    }
   ],
   "source": [
    "blogs.head()"
   ]
  },
  {
   "cell_type": "code",
   "execution_count": 5,
   "metadata": {},
   "outputs": [],
   "source": [
    "#analyze the data"
   ]
  },
  {
   "cell_type": "code",
   "execution_count": 6,
   "metadata": {},
   "outputs": [
    {
     "data": {
      "text/plain": [
       "(681284, 7)"
      ]
     },
     "execution_count": 6,
     "metadata": {},
     "output_type": "execute_result"
    }
   ],
   "source": [
    "blogs.shape"
   ]
  },
  {
   "cell_type": "code",
   "execution_count": 7,
   "metadata": {},
   "outputs": [
    {
     "data": {
      "text/html": [
       "<div>\n",
       "<style scoped>\n",
       "    .dataframe tbody tr th:only-of-type {\n",
       "        vertical-align: middle;\n",
       "    }\n",
       "\n",
       "    .dataframe tbody tr th {\n",
       "        vertical-align: top;\n",
       "    }\n",
       "\n",
       "    .dataframe thead th {\n",
       "        text-align: right;\n",
       "    }\n",
       "</style>\n",
       "<table border=\"1\" class=\"dataframe\">\n",
       "  <thead>\n",
       "    <tr style=\"text-align: right;\">\n",
       "      <th></th>\n",
       "      <th>id</th>\n",
       "      <th>gender</th>\n",
       "      <th>age</th>\n",
       "      <th>topic</th>\n",
       "      <th>sign</th>\n",
       "      <th>date</th>\n",
       "      <th>text</th>\n",
       "    </tr>\n",
       "  </thead>\n",
       "  <tbody>\n",
       "    <tr>\n",
       "      <th>429012</th>\n",
       "      <td>1856131</td>\n",
       "      <td>male</td>\n",
       "      <td>24</td>\n",
       "      <td>indUnk</td>\n",
       "      <td>Gemini</td>\n",
       "      <td>28,June,2004</td>\n",
       "      <td>Green Bay will make wild card ... I kno...</td>\n",
       "    </tr>\n",
       "    <tr>\n",
       "      <th>519963</th>\n",
       "      <td>3636538</td>\n",
       "      <td>female</td>\n",
       "      <td>25</td>\n",
       "      <td>indUnk</td>\n",
       "      <td>Taurus</td>\n",
       "      <td>15,June,2004</td>\n",
       "      <td>They arrived late at night in a city th...</td>\n",
       "    </tr>\n",
       "    <tr>\n",
       "      <th>632237</th>\n",
       "      <td>634667</td>\n",
       "      <td>male</td>\n",
       "      <td>24</td>\n",
       "      <td>indUnk</td>\n",
       "      <td>Libra</td>\n",
       "      <td>10,June,2004</td>\n",
       "      <td>Leaving Erith     The Lady of the...</td>\n",
       "    </tr>\n",
       "    <tr>\n",
       "      <th>243278</th>\n",
       "      <td>3446170</td>\n",
       "      <td>male</td>\n",
       "      <td>27</td>\n",
       "      <td>Law</td>\n",
       "      <td>Cancer</td>\n",
       "      <td>08,June,2004</td>\n",
       "      <td>Sorry folks, my baby's away and can't c...</td>\n",
       "    </tr>\n",
       "    <tr>\n",
       "      <th>201771</th>\n",
       "      <td>1603874</td>\n",
       "      <td>male</td>\n",
       "      <td>41</td>\n",
       "      <td>Internet</td>\n",
       "      <td>Scorpio</td>\n",
       "      <td>02,July,2004</td>\n",
       "      <td>urlLink Madagascar ?  So, this i...</td>\n",
       "    </tr>\n",
       "  </tbody>\n",
       "</table>\n",
       "</div>"
      ],
      "text/plain": [
       "             id  gender  age     topic     sign          date  \\\n",
       "429012  1856131    male   24    indUnk   Gemini  28,June,2004   \n",
       "519963  3636538  female   25    indUnk   Taurus  15,June,2004   \n",
       "632237   634667    male   24    indUnk    Libra  10,June,2004   \n",
       "243278  3446170    male   27       Law   Cancer  08,June,2004   \n",
       "201771  1603874    male   41  Internet  Scorpio  02,July,2004   \n",
       "\n",
       "                                                     text  \n",
       "429012         Green Bay will make wild card ... I kno...  \n",
       "519963         They arrived late at night in a city th...  \n",
       "632237               Leaving Erith     The Lady of the...  \n",
       "243278         Sorry folks, my baby's away and can't c...  \n",
       "201771                urlLink Madagascar ?  So, this i...  "
      ]
     },
     "execution_count": 7,
     "metadata": {},
     "output_type": "execute_result"
    }
   ],
   "source": [
    "blogs.sample(5)"
   ]
  },
  {
   "cell_type": "code",
   "execution_count": 8,
   "metadata": {},
   "outputs": [
    {
     "data": {
      "text/html": [
       "<div>\n",
       "<style scoped>\n",
       "    .dataframe tbody tr th:only-of-type {\n",
       "        vertical-align: middle;\n",
       "    }\n",
       "\n",
       "    .dataframe tbody tr th {\n",
       "        vertical-align: top;\n",
       "    }\n",
       "\n",
       "    .dataframe thead th {\n",
       "        text-align: right;\n",
       "    }\n",
       "</style>\n",
       "<table border=\"1\" class=\"dataframe\">\n",
       "  <thead>\n",
       "    <tr style=\"text-align: right;\">\n",
       "      <th></th>\n",
       "      <th>count</th>\n",
       "      <th>mean</th>\n",
       "      <th>std</th>\n",
       "      <th>min</th>\n",
       "      <th>25%</th>\n",
       "      <th>50%</th>\n",
       "      <th>75%</th>\n",
       "      <th>max</th>\n",
       "    </tr>\n",
       "  </thead>\n",
       "  <tbody>\n",
       "    <tr>\n",
       "      <th>id</th>\n",
       "      <td>681284.0</td>\n",
       "      <td>2.397802e+06</td>\n",
       "      <td>1.247723e+06</td>\n",
       "      <td>5114.0</td>\n",
       "      <td>1239610.0</td>\n",
       "      <td>2607577.0</td>\n",
       "      <td>3525660.0</td>\n",
       "      <td>4337650.0</td>\n",
       "    </tr>\n",
       "    <tr>\n",
       "      <th>age</th>\n",
       "      <td>681284.0</td>\n",
       "      <td>2.393233e+01</td>\n",
       "      <td>7.786009e+00</td>\n",
       "      <td>13.0</td>\n",
       "      <td>17.0</td>\n",
       "      <td>24.0</td>\n",
       "      <td>26.0</td>\n",
       "      <td>48.0</td>\n",
       "    </tr>\n",
       "  </tbody>\n",
       "</table>\n",
       "</div>"
      ],
      "text/plain": [
       "        count          mean           std     min        25%        50%  \\\n",
       "id   681284.0  2.397802e+06  1.247723e+06  5114.0  1239610.0  2607577.0   \n",
       "age  681284.0  2.393233e+01  7.786009e+00    13.0       17.0       24.0   \n",
       "\n",
       "           75%        max  \n",
       "id   3525660.0  4337650.0  \n",
       "age       26.0       48.0  "
      ]
     },
     "execution_count": 8,
     "metadata": {},
     "output_type": "execute_result"
    }
   ],
   "source": [
    "blogs.describe().T"
   ]
  },
  {
   "cell_type": "code",
   "execution_count": 9,
   "metadata": {},
   "outputs": [
    {
     "name": "stdout",
     "output_type": "stream",
     "text": [
      "<class 'pandas.core.frame.DataFrame'>\n",
      "RangeIndex: 681284 entries, 0 to 681283\n",
      "Data columns (total 7 columns):\n",
      " #   Column  Non-Null Count   Dtype \n",
      "---  ------  --------------   ----- \n",
      " 0   id      681284 non-null  int64 \n",
      " 1   gender  681284 non-null  object\n",
      " 2   age     681284 non-null  int64 \n",
      " 3   topic   681284 non-null  object\n",
      " 4   sign    681284 non-null  object\n",
      " 5   date    681284 non-null  object\n",
      " 6   text    681284 non-null  object\n",
      "dtypes: int64(2), object(5)\n",
      "memory usage: 36.4+ MB\n"
     ]
    }
   ],
   "source": [
    "blogs.info()"
   ]
  },
  {
   "cell_type": "markdown",
   "metadata": {},
   "source": [
    "- Csv has 681,284 entries\n",
    "- 7 columns\n",
    "- text field contains the blog details\n",
    "- sign, age, gender, topic are major labels which represnts the features of the author\n",
    "- Id and date are fields to map details uniquely hence will not be beneficial while identifying features"
   ]
  },
  {
   "cell_type": "code",
   "execution_count": 10,
   "metadata": {
    "scrolled": true
   },
   "outputs": [
    {
     "data": {
      "text/plain": [
       "male      345193\n",
       "female    336091\n",
       "Name: gender, dtype: int64"
      ]
     },
     "execution_count": 10,
     "metadata": {},
     "output_type": "execute_result"
    }
   ],
   "source": [
    "blogs.gender.value_counts()"
   ]
  },
  {
   "cell_type": "code",
   "execution_count": 11,
   "metadata": {},
   "outputs": [
    {
     "data": {
      "text/plain": [
       "<AxesSubplot:xlabel='gender', ylabel='count'>"
      ]
     },
     "execution_count": 11,
     "metadata": {},
     "output_type": "execute_result"
    },
    {
     "data": {
      "image/png": "[encoded data removed]",
      "text/plain": [
       "<Figure size 432x288 with 1 Axes>"
      ]
     },
     "metadata": {
      "needs_background": "light"
     },
     "output_type": "display_data"
    }
   ],
   "source": [
    "sns.countplot(blogs['gender'])"
   ]
  },
  {
   "cell_type": "markdown",
   "metadata": {},
   "source": [
    "- Gender distribution seems even for male and female\n",
    "- no null values present"
   ]
  },
  {
   "cell_type": "code",
   "execution_count": 12,
   "metadata": {},
   "outputs": [
    {
     "data": {
      "image/png": "[encoded data removed]",
      "text/plain": [
       "<Figure size 864x288 with 1 Axes>"
      ]
     },
     "metadata": {
      "needs_background": "light"
     },
     "output_type": "display_data"
    }
   ],
   "source": [
    "plt.figure(figsize=(12,4))\n",
    "sns.countplot(blogs['sign'])\n",
    "plt.show()"
   ]
  },
  {
   "cell_type": "code",
   "execution_count": 13,
   "metadata": {
    "scrolled": true
   },
   "outputs": [
    {
     "data": {
      "text/plain": [
       "Cancer         65048\n",
       "Aries          64979\n",
       "Taurus         62561\n",
       "Libra          62363\n",
       "Virgo          60399\n",
       "Scorpio        57161\n",
       "Pisces         54053\n",
       "Leo            53811\n",
       "Gemini         51985\n",
       "Sagittarius    50036\n",
       "Aquarius       49687\n",
       "Capricorn      49201\n",
       "Name: sign, dtype: int64"
      ]
     },
     "execution_count": 13,
     "metadata": {},
     "output_type": "execute_result"
    }
   ],
   "source": [
    "blogs.sign.value_counts()"
   ]
  },
  {
   "cell_type": "markdown",
   "metadata": {},
   "source": [
    "- entries are distributed across all 12 signs\n",
    "- No null values"
   ]
  },
  {
   "cell_type": "code",
   "execution_count": 14,
   "metadata": {
    "scrolled": false
   },
   "outputs": [
    {
     "data": {
      "text/plain": [
       "17    80859\n",
       "24    80071\n",
       "23    72889\n",
       "16    72708\n",
       "25    67051\n",
       "26    55312\n",
       "27    46124\n",
       "15    41767\n",
       "14    27400\n",
       "34    21347\n",
       "33    17584\n",
       "35    17462\n",
       "36    14229\n",
       "13    13133\n",
       "37     9317\n",
       "38     7545\n",
       "39     5556\n",
       "40     5016\n",
       "45     4482\n",
       "43     4230\n",
       "41     3738\n",
       "48     3572\n",
       "42     2908\n",
       "46     2733\n",
       "47     2207\n",
       "44     2044\n",
       "Name: age, dtype: int64"
      ]
     },
     "execution_count": 14,
     "metadata": {},
     "output_type": "execute_result"
    }
   ],
   "source": [
    "blogs.age.value_counts()"
   ]
  },
  {
   "cell_type": "code",
   "execution_count": 15,
   "metadata": {
    "scrolled": true
   },
   "outputs": [
    {
     "data": {
      "text/plain": [
       "<AxesSubplot:xlabel='age'>"
      ]
     },
     "execution_count": 15,
     "metadata": {},
     "output_type": "execute_result"
    },
    {
     "data": {
      "image/png": "[encoded data removed]",
      "text/plain": [
       "<Figure size 432x288 with 1 Axes>"
      ]
     },
     "metadata": {
      "needs_background": "light"
     },
     "output_type": "display_data"
    }
   ],
   "source": [
    "sns.distplot(blogs['age'])"
   ]
  },
  {
   "cell_type": "markdown",
   "metadata": {},
   "source": [
    "- Make age group\n",
    "- All bloggers included in the corpus fall into one of three age groups:\n",
    "    - 8240 \"10s\" blogs (ages 13-17),\n",
    "    - 8086 \"20s\" blogs(ages 23-27) and\n",
    "    - 2994 \"30s\" blogs (ages 33-47)\n"
   ]
  },
  {
   "cell_type": "markdown",
   "metadata": {},
   "source": [
    "- Age distribution is a bit skwed\n",
    "- we can observe high concentration of for 10s and 20s compared to 30s age group\n",
    "- no null values"
   ]
  },
  {
   "cell_type": "markdown",
   "metadata": {},
   "source": [
    "- Creating a new label for age and converting the ages into 3 group"
   ]
  },
  {
   "cell_type": "code",
   "execution_count": 16,
   "metadata": {},
   "outputs": [],
   "source": [
    "bins = pd.IntervalIndex.from_tuples([(12,17), (22, 27), (32, 47)])\n",
    "labels=['10s','20s','30s']\n",
    "#blogs['AgeGroup']=pd.cut(blogs['age'],bins=bins)\n",
    "blogs['AgeGroup']=pd.cut(blogs['age'],bins=[13,18,28,49],labels=labels,right=False)"
   ]
  },
  {
   "cell_type": "code",
   "execution_count": 17,
   "metadata": {},
   "outputs": [
    {
     "data": {
      "text/plain": [
       "20s    321447\n",
       "10s    235867\n",
       "30s    123970\n",
       "Name: AgeGroup, dtype: int64"
      ]
     },
     "execution_count": 17,
     "metadata": {},
     "output_type": "execute_result"
    }
   ],
   "source": [
    "blogs.AgeGroup.value_counts()"
   ]
  },
  {
   "cell_type": "code",
   "execution_count": 18,
   "metadata": {},
   "outputs": [
    {
     "data": {
      "text/html": [
       "<div>\n",
       "<style scoped>\n",
       "    .dataframe tbody tr th:only-of-type {\n",
       "        vertical-align: middle;\n",
       "    }\n",
       "\n",
       "    .dataframe tbody tr th {\n",
       "        vertical-align: top;\n",
       "    }\n",
       "\n",
       "    .dataframe thead th {\n",
       "        text-align: right;\n",
       "    }\n",
       "</style>\n",
       "<table border=\"1\" class=\"dataframe\">\n",
       "  <thead>\n",
       "    <tr style=\"text-align: right;\">\n",
       "      <th>gender</th>\n",
       "      <th>female</th>\n",
       "      <th>male</th>\n",
       "    </tr>\n",
       "    <tr>\n",
       "      <th>AgeGroup</th>\n",
       "      <th></th>\n",
       "      <th></th>\n",
       "    </tr>\n",
       "  </thead>\n",
       "  <tbody>\n",
       "    <tr>\n",
       "      <th>10s</th>\n",
       "      <td>115389</td>\n",
       "      <td>120478</td>\n",
       "    </tr>\n",
       "    <tr>\n",
       "      <th>20s</th>\n",
       "      <td>162075</td>\n",
       "      <td>159372</td>\n",
       "    </tr>\n",
       "    <tr>\n",
       "      <th>30s</th>\n",
       "      <td>58627</td>\n",
       "      <td>65343</td>\n",
       "    </tr>\n",
       "  </tbody>\n",
       "</table>\n",
       "</div>"
      ],
      "text/plain": [
       "gender    female    male\n",
       "AgeGroup                \n",
       "10s       115389  120478\n",
       "20s       162075  159372\n",
       "30s        58627   65343"
      ]
     },
     "execution_count": 18,
     "metadata": {},
     "output_type": "execute_result"
    }
   ],
   "source": [
    "pd.crosstab(blogs.AgeGroup,blogs.gender)"
   ]
  },
  {
   "cell_type": "code",
   "execution_count": 19,
   "metadata": {},
   "outputs": [
    {
     "data": {
      "text/html": [
       "<div>\n",
       "<style scoped>\n",
       "    .dataframe tbody tr th:only-of-type {\n",
       "        vertical-align: middle;\n",
       "    }\n",
       "\n",
       "    .dataframe tbody tr th {\n",
       "        vertical-align: top;\n",
       "    }\n",
       "\n",
       "    .dataframe thead th {\n",
       "        text-align: right;\n",
       "    }\n",
       "</style>\n",
       "<table border=\"1\" class=\"dataframe\">\n",
       "  <thead>\n",
       "    <tr style=\"text-align: right;\">\n",
       "      <th></th>\n",
       "      <th>id</th>\n",
       "      <th>gender</th>\n",
       "      <th>age</th>\n",
       "      <th>topic</th>\n",
       "      <th>sign</th>\n",
       "      <th>date</th>\n",
       "      <th>text</th>\n",
       "      <th>AgeGroup</th>\n",
       "    </tr>\n",
       "  </thead>\n",
       "  <tbody>\n",
       "    <tr>\n",
       "      <th>0</th>\n",
       "      <td>2059027</td>\n",
       "      <td>male</td>\n",
       "      <td>15</td>\n",
       "      <td>Student</td>\n",
       "      <td>Leo</td>\n",
       "      <td>14,May,2004</td>\n",
       "      <td>Info has been found (+/- 100 pages,...</td>\n",
       "      <td>10s</td>\n",
       "    </tr>\n",
       "    <tr>\n",
       "      <th>1</th>\n",
       "      <td>2059027</td>\n",
       "      <td>male</td>\n",
       "      <td>15</td>\n",
       "      <td>Student</td>\n",
       "      <td>Leo</td>\n",
       "      <td>13,May,2004</td>\n",
       "      <td>These are the team members:   Drewe...</td>\n",
       "      <td>10s</td>\n",
       "    </tr>\n",
       "    <tr>\n",
       "      <th>2</th>\n",
       "      <td>2059027</td>\n",
       "      <td>male</td>\n",
       "      <td>15</td>\n",
       "      <td>Student</td>\n",
       "      <td>Leo</td>\n",
       "      <td>12,May,2004</td>\n",
       "      <td>In het kader van kernfusie op aarde...</td>\n",
       "      <td>10s</td>\n",
       "    </tr>\n",
       "    <tr>\n",
       "      <th>3</th>\n",
       "      <td>2059027</td>\n",
       "      <td>male</td>\n",
       "      <td>15</td>\n",
       "      <td>Student</td>\n",
       "      <td>Leo</td>\n",
       "      <td>12,May,2004</td>\n",
       "      <td>testing!!!  testing!!!</td>\n",
       "      <td>10s</td>\n",
       "    </tr>\n",
       "    <tr>\n",
       "      <th>4</th>\n",
       "      <td>3581210</td>\n",
       "      <td>male</td>\n",
       "      <td>33</td>\n",
       "      <td>InvestmentBanking</td>\n",
       "      <td>Aquarius</td>\n",
       "      <td>11,June,2004</td>\n",
       "      <td>Thanks to Yahoo!'s Toolbar I can ...</td>\n",
       "      <td>30s</td>\n",
       "    </tr>\n",
       "  </tbody>\n",
       "</table>\n",
       "</div>"
      ],
      "text/plain": [
       "        id gender  age              topic      sign          date  \\\n",
       "0  2059027   male   15            Student       Leo   14,May,2004   \n",
       "1  2059027   male   15            Student       Leo   13,May,2004   \n",
       "2  2059027   male   15            Student       Leo   12,May,2004   \n",
       "3  2059027   male   15            Student       Leo   12,May,2004   \n",
       "4  3581210   male   33  InvestmentBanking  Aquarius  11,June,2004   \n",
       "\n",
       "                                                text AgeGroup  \n",
       "0             Info has been found (+/- 100 pages,...      10s  \n",
       "1             These are the team members:   Drewe...      10s  \n",
       "2             In het kader van kernfusie op aarde...      10s  \n",
       "3                   testing!!!  testing!!!                10s  \n",
       "4               Thanks to Yahoo!'s Toolbar I can ...      30s  "
      ]
     },
     "execution_count": 19,
     "metadata": {},
     "output_type": "execute_result"
    }
   ],
   "source": [
    "blogs.head()"
   ]
  },
  {
   "cell_type": "code",
   "execution_count": 20,
   "metadata": {},
   "outputs": [
    {
     "data": {
      "text/plain": [
       "indUnk                     251015\n",
       "Student                    153903\n",
       "Technology                  42055\n",
       "Arts                        32449\n",
       "Education                   29633\n",
       "Communications-Media        20140\n",
       "Internet                    16006\n",
       "Non-Profit                  14700\n",
       "Engineering                 11653\n",
       "Law                          9040\n",
       "Publishing                   7753\n",
       "Science                      7269\n",
       "Government                   6907\n",
       "Consulting                   5862\n",
       "Religion                     5235\n",
       "Fashion                      4851\n",
       "Marketing                    4769\n",
       "Advertising                  4676\n",
       "BusinessServices             4500\n",
       "Banking                      4049\n",
       "Chemicals                    3928\n",
       "Telecommunications           3891\n",
       "Accounting                   3832\n",
       "Military                     3128\n",
       "Museums-Libraries            3096\n",
       "Sports-Recreation            3038\n",
       "HumanResources               3010\n",
       "RealEstate                   2870\n",
       "Transportation               2326\n",
       "Manufacturing                2272\n",
       "Biotech                      2234\n",
       "Tourism                      1942\n",
       "LawEnforcement-Security      1878\n",
       "Architecture                 1638\n",
       "InvestmentBanking            1292\n",
       "Automotive                   1244\n",
       "Agriculture                  1235\n",
       "Construction                 1093\n",
       "Environment                   592\n",
       "Maritime                      280\n",
       "Name: topic, dtype: int64"
      ]
     },
     "execution_count": 20,
     "metadata": {},
     "output_type": "execute_result"
    }
   ],
   "source": [
    "blogs.topic.value_counts()"
   ]
  },
  {
   "cell_type": "code",
   "execution_count": 21,
   "metadata": {},
   "outputs": [
    {
     "data": {
      "text/plain": [
       "251015"
      ]
     },
     "execution_count": 21,
     "metadata": {},
     "output_type": "execute_result"
    }
   ],
   "source": [
    "len(blogs[blogs.topic=='indUnk'])"
   ]
  },
  {
   "cell_type": "code",
   "execution_count": 22,
   "metadata": {
    "scrolled": true
   },
   "outputs": [
    {
     "data": {
      "image/png": "[encoded data removed]",
      "text/plain": [
       "<Figure size 864x288 with 1 Axes>"
      ]
     },
     "metadata": {
      "needs_background": "light"
     },
     "output_type": "display_data"
    }
   ],
   "source": [
    "plt.figure(figsize=(12,4))\n",
    "sns.countplot(blogs.topic)\n",
    "plt.show()"
   ]
  },
  {
   "cell_type": "markdown",
   "metadata": {},
   "source": [
    "- 2 topics has high concentration and hence we might get screwed result towards these two topics\n",
    "- Class imbalance will impact result\n",
    "- With default data set we attempted for model creation and noticed pathetic classification values\n",
    "- Hence we came back and trying to under sample the values. We can do over sampling as well to get better balance.\n",
    "- Experimenting with column values and reducing evrything for dominant topic. This will reduce the values dramatically along with importan data as well."
   ]
  },
  {
   "cell_type": "code",
   "execution_count": 23,
   "metadata": {},
   "outputs": [
    {
     "data": {
      "text/plain": [
       "'InvestmentBanking'"
      ]
     },
     "execution_count": 23,
     "metadata": {},
     "output_type": "execute_result"
    }
   ],
   "source": [
    "allTopics=blogs.topic.unique()\n",
    "allTopics[1]"
   ]
  },
  {
   "cell_type": "markdown",
   "metadata": {},
   "source": [
    "- For resampling, we have chosenn to undersample few topics for few reasons.\n",
    "    - Keeping around 10k samples on each topic will give eqal playground for all topics\n",
    "    - we will take a chip of it while doing model creation\n",
    "- we undersampled and oversampled, to get eqal importance on each topics. This will truncate lot of important data from dominating toppics but we couldnt oversample other topics as it will explode the size and our system will not be able to handle it"
   ]
  },
  {
   "cell_type": "code",
   "execution_count": 24,
   "metadata": {},
   "outputs": [],
   "source": [
    "\n",
    "from sklearn.utils import resample\n",
    "\n",
    "downsampled=pd.DataFrame()\n",
    "\n",
    "for val in allTopics:\n",
    "    toUndersample = blogs[blogs.topic==val]\n",
    "    if(len(toUndersample)>10000):\n",
    "        # downsample majority\n",
    "        topic_downsampled = resample(toUndersample,\n",
    "                                        replace = False, # sample without replacement\n",
    "                                        n_samples = 10000, # match 10k\n",
    "                                        random_state = 0) # reproducible results\n",
    "\n",
    "        # combine minority and downsampled\n",
    "        downsampled = pd.concat([topic_downsampled, downsampled])\n",
    "    else:\n",
    "        topic_downsampled = resample(toUndersample,\n",
    "                                        replace = True, # sample with replacement\n",
    "                                        n_samples = 10000, # match 10k\n",
    "                                        random_state = 0) # reproducible results\n",
    "\n",
    "        \n",
    "        downsampled = pd.concat([topic_downsampled, downsampled])\n"
   ]
  },
  {
   "cell_type": "code",
   "execution_count": null,
   "metadata": {},
   "outputs": [],
   "source": []
  },
  {
   "cell_type": "code",
   "execution_count": 25,
   "metadata": {
    "scrolled": false
   },
   "outputs": [
    {
     "data": {
      "image/png": "[encoded data removed]",
      "text/plain": [
       "<Figure size 864x288 with 1 Axes>"
      ]
     },
     "metadata": {
      "needs_background": "light"
     },
     "output_type": "display_data"
    }
   ],
   "source": [
    "plt.figure(figsize=(12,4))\n",
    "sns.countplot(downsampled.topic)\n",
    "plt.show()"
   ]
  },
  {
   "cell_type": "markdown",
   "metadata": {},
   "source": []
  },
  {
   "cell_type": "markdown",
   "metadata": {},
   "source": [
    "- we can observe now all topics are of same count"
   ]
  },
  {
   "cell_type": "code",
   "execution_count": 26,
   "metadata": {},
   "outputs": [],
   "source": [
    "#converting int to objects\n",
    "downsampled['age']=downsampled['age'].astype('object')\n",
    "downsampled['id']=downsampled['id'].astype('object')\n",
    "downsampled['AgeGroup']=downsampled['AgeGroup'].astype('object')"
   ]
  },
  {
   "cell_type": "code",
   "execution_count": 27,
   "metadata": {},
   "outputs": [
    {
     "data": {
      "text/plain": [
       "(400000, 8)"
      ]
     },
     "execution_count": 27,
     "metadata": {},
     "output_type": "execute_result"
    }
   ],
   "source": [
    "downsampled.shape"
   ]
  },
  {
   "cell_type": "code",
   "execution_count": 28,
   "metadata": {
    "scrolled": true
   },
   "outputs": [
    {
     "name": "stdout",
     "output_type": "stream",
     "text": [
      "<class 'pandas.core.frame.DataFrame'>\n",
      "Int64Index: 400000 entries, 473784 to 40417\n",
      "Data columns (total 8 columns):\n",
      " #   Column    Non-Null Count   Dtype \n",
      "---  ------    --------------   ----- \n",
      " 0   id        400000 non-null  object\n",
      " 1   gender    400000 non-null  object\n",
      " 2   age       400000 non-null  object\n",
      " 3   topic     400000 non-null  object\n",
      " 4   sign      400000 non-null  object\n",
      " 5   date      400000 non-null  object\n",
      " 6   text      400000 non-null  object\n",
      " 7   AgeGroup  400000 non-null  object\n",
      "dtypes: object(8)\n",
      "memory usage: 37.5+ MB\n"
     ]
    }
   ],
   "source": [
    "downsampled.info()"
   ]
  },
  {
   "cell_type": "markdown",
   "metadata": {},
   "source": [
    "- All columns are object now"
   ]
  },
  {
   "cell_type": "code",
   "execution_count": 29,
   "metadata": {},
   "outputs": [
    {
     "data": {
      "text/plain": [
       "Cancer         38259\n",
       "Scorpio        36658\n",
       "Aries          36292\n",
       "Taurus         36056\n",
       "Virgo          35458\n",
       "Libra          34536\n",
       "Pisces         34414\n",
       "Leo            30876\n",
       "Sagittarius    30436\n",
       "Gemini         30231\n",
       "Aquarius       29660\n",
       "Capricorn      27124\n",
       "Name: sign, dtype: int64"
      ]
     },
     "execution_count": 29,
     "metadata": {},
     "output_type": "execute_result"
    }
   ],
   "source": [
    "downsampled.sign.value_counts()"
   ]
  },
  {
   "cell_type": "code",
   "execution_count": 30,
   "metadata": {},
   "outputs": [
    {
     "data": {
      "text/plain": [
       "id          0\n",
       "gender      0\n",
       "age         0\n",
       "topic       0\n",
       "sign        0\n",
       "date        0\n",
       "text        0\n",
       "AgeGroup    0\n",
       "dtype: int64"
      ]
     },
     "execution_count": 30,
     "metadata": {},
     "output_type": "execute_result"
    }
   ],
   "source": [
    "downsampled.isna().sum()"
   ]
  },
  {
   "cell_type": "markdown",
   "metadata": {},
   "source": [
    "- No NULL values captured"
   ]
  },
  {
   "cell_type": "code",
   "execution_count": 31,
   "metadata": {},
   "outputs": [
    {
     "data": {
      "text/plain": [
       "<AxesSubplot:xlabel='age'>"
      ]
     },
     "execution_count": 31,
     "metadata": {},
     "output_type": "execute_result"
    },
    {
     "data": {
      "image/png": "[encoded data removed]",
      "text/plain": [
       "<Figure size 432x288 with 1 Axes>"
      ]
     },
     "metadata": {
      "needs_background": "light"
     },
     "output_type": "display_data"
    }
   ],
   "source": [
    "sns.distplot(downsampled['age'])"
   ]
  },
  {
   "cell_type": "markdown",
   "metadata": {},
   "source": [
    "- Trying to capture the number of characters in the text and analyze if it has some significance\n"
   ]
  },
  {
   "cell_type": "code",
   "execution_count": null,
   "metadata": {},
   "outputs": [],
   "source": []
  },
  {
   "cell_type": "code",
   "execution_count": null,
   "metadata": {},
   "outputs": [],
   "source": []
  },
  {
   "cell_type": "markdown",
   "metadata": {},
   "source": [
    "- Trying to observe number of characters and and there distribution"
   ]
  },
  {
   "cell_type": "code",
   "execution_count": 32,
   "metadata": {},
   "outputs": [],
   "source": [
    "# examine the text characters length in test_df and record these\n",
    "downsampled['text_length'] = downsampled['text'].str.len()"
   ]
  },
  {
   "cell_type": "code",
   "execution_count": 33,
   "metadata": {},
   "outputs": [
    {
     "data": {
      "text/plain": [
       "<AxesSubplot:xlabel='text_length'>"
      ]
     },
     "execution_count": 33,
     "metadata": {},
     "output_type": "execute_result"
    },
    {
     "data": {
      "image/png": "[encoded data removed]",
      "text/plain": [
       "<Figure size 432x288 with 1 Axes>"
      ]
     },
     "metadata": {
      "needs_background": "light"
     },
     "output_type": "display_data"
    }
   ],
   "source": [
    "sns.distplot(downsampled['text_length'])"
   ]
  },
  {
   "cell_type": "code",
   "execution_count": 34,
   "metadata": {},
   "outputs": [
    {
     "data": {
      "text/html": [
       "<div>\n",
       "<style scoped>\n",
       "    .dataframe tbody tr th:only-of-type {\n",
       "        vertical-align: middle;\n",
       "    }\n",
       "\n",
       "    .dataframe tbody tr th {\n",
       "        vertical-align: top;\n",
       "    }\n",
       "\n",
       "    .dataframe thead th {\n",
       "        text-align: right;\n",
       "    }\n",
       "</style>\n",
       "<table border=\"1\" class=\"dataframe\">\n",
       "  <thead>\n",
       "    <tr style=\"text-align: right;\">\n",
       "      <th></th>\n",
       "      <th>id</th>\n",
       "      <th>gender</th>\n",
       "      <th>age</th>\n",
       "      <th>topic</th>\n",
       "      <th>sign</th>\n",
       "      <th>date</th>\n",
       "      <th>text</th>\n",
       "      <th>AgeGroup</th>\n",
       "      <th>text_length</th>\n",
       "    </tr>\n",
       "  </thead>\n",
       "  <tbody>\n",
       "    <tr>\n",
       "      <th>473784</th>\n",
       "      <td>1705067</td>\n",
       "      <td>female</td>\n",
       "      <td>27</td>\n",
       "      <td>Environment</td>\n",
       "      <td>Pisces</td>\n",
       "      <td>02,June,2004</td>\n",
       "      <td>I went to a poetry reading today....</td>\n",
       "      <td>20s</td>\n",
       "      <td>1656</td>\n",
       "    </tr>\n",
       "    <tr>\n",
       "      <th>302368</th>\n",
       "      <td>3718285</td>\n",
       "      <td>male</td>\n",
       "      <td>24</td>\n",
       "      <td>Environment</td>\n",
       "      <td>Gemini</td>\n",
       "      <td>26,June,2004</td>\n",
       "      <td>urlLink    This is mostly a ...</td>\n",
       "      <td>20s</td>\n",
       "      <td>105</td>\n",
       "    </tr>\n",
       "    <tr>\n",
       "      <th>303339</th>\n",
       "      <td>3885865</td>\n",
       "      <td>male</td>\n",
       "      <td>23</td>\n",
       "      <td>Environment</td>\n",
       "      <td>Scorpio</td>\n",
       "      <td>10,July,2004</td>\n",
       "      <td>I would like to clarify that I am n...</td>\n",
       "      <td>20s</td>\n",
       "      <td>172</td>\n",
       "    </tr>\n",
       "    <tr>\n",
       "      <th>148655</th>\n",
       "      <td>4310237</td>\n",
       "      <td>female</td>\n",
       "      <td>33</td>\n",
       "      <td>Environment</td>\n",
       "      <td>Virgo</td>\n",
       "      <td>23,August,2004</td>\n",
       "      <td>Now you can peek mine.  Ah heh, ah heh-...</td>\n",
       "      <td>30s</td>\n",
       "      <td>430</td>\n",
       "    </tr>\n",
       "    <tr>\n",
       "      <th>303257</th>\n",
       "      <td>3885865</td>\n",
       "      <td>male</td>\n",
       "      <td>23</td>\n",
       "      <td>Environment</td>\n",
       "      <td>Scorpio</td>\n",
       "      <td>29,July,2004</td>\n",
       "      <td>Many thanks for all of the birthday...</td>\n",
       "      <td>20s</td>\n",
       "      <td>448</td>\n",
       "    </tr>\n",
       "  </tbody>\n",
       "</table>\n",
       "</div>"
      ],
      "text/plain": [
       "             id  gender age        topic     sign            date  \\\n",
       "473784  1705067  female  27  Environment   Pisces    02,June,2004   \n",
       "302368  3718285    male  24  Environment   Gemini    26,June,2004   \n",
       "303339  3885865    male  23  Environment  Scorpio    10,July,2004   \n",
       "148655  4310237  female  33  Environment    Virgo  23,August,2004   \n",
       "303257  3885865    male  23  Environment  Scorpio    29,July,2004   \n",
       "\n",
       "                                                     text AgeGroup  \\\n",
       "473784               I went to a poetry reading today....      20s   \n",
       "302368                    urlLink    This is mostly a ...      20s   \n",
       "303339             I would like to clarify that I am n...      20s   \n",
       "148655         Now you can peek mine.  Ah heh, ah heh-...      30s   \n",
       "303257             Many thanks for all of the birthday...      20s   \n",
       "\n",
       "        text_length  \n",
       "473784         1656  \n",
       "302368          105  \n",
       "303339          172  \n",
       "148655          430  \n",
       "303257          448  "
      ]
     },
     "execution_count": 34,
     "metadata": {},
     "output_type": "execute_result"
    }
   ],
   "source": [
    "downsampled.head()"
   ]
  },
  {
   "cell_type": "code",
   "execution_count": 35,
   "metadata": {},
   "outputs": [
    {
     "data": {
      "text/html": [
       "<div>\n",
       "<style scoped>\n",
       "    .dataframe tbody tr th:only-of-type {\n",
       "        vertical-align: middle;\n",
       "    }\n",
       "\n",
       "    .dataframe tbody tr th {\n",
       "        vertical-align: top;\n",
       "    }\n",
       "\n",
       "    .dataframe thead th {\n",
       "        text-align: right;\n",
       "    }\n",
       "</style>\n",
       "<table border=\"1\" class=\"dataframe\">\n",
       "  <thead>\n",
       "    <tr style=\"text-align: right;\">\n",
       "      <th>text_length</th>\n",
       "      <th>4</th>\n",
       "      <th>5</th>\n",
       "      <th>6</th>\n",
       "      <th>7</th>\n",
       "      <th>8</th>\n",
       "      <th>9</th>\n",
       "      <th>10</th>\n",
       "      <th>11</th>\n",
       "      <th>12</th>\n",
       "      <th>13</th>\n",
       "      <th>...</th>\n",
       "      <th>92767</th>\n",
       "      <th>100146</th>\n",
       "      <th>104801</th>\n",
       "      <th>107585</th>\n",
       "      <th>122228</th>\n",
       "      <th>126168</th>\n",
       "      <th>128462</th>\n",
       "      <th>131862</th>\n",
       "      <th>207078</th>\n",
       "      <th>620448</th>\n",
       "    </tr>\n",
       "    <tr>\n",
       "      <th>AgeGroup</th>\n",
       "      <th></th>\n",
       "      <th></th>\n",
       "      <th></th>\n",
       "      <th></th>\n",
       "      <th></th>\n",
       "      <th></th>\n",
       "      <th></th>\n",
       "      <th></th>\n",
       "      <th></th>\n",
       "      <th></th>\n",
       "      <th></th>\n",
       "      <th></th>\n",
       "      <th></th>\n",
       "      <th></th>\n",
       "      <th></th>\n",
       "      <th></th>\n",
       "      <th></th>\n",
       "      <th></th>\n",
       "      <th></th>\n",
       "      <th></th>\n",
       "      <th></th>\n",
       "    </tr>\n",
       "  </thead>\n",
       "  <tbody>\n",
       "    <tr>\n",
       "      <th>10s</th>\n",
       "      <td>4</td>\n",
       "      <td>1</td>\n",
       "      <td>2</td>\n",
       "      <td>0</td>\n",
       "      <td>0</td>\n",
       "      <td>1</td>\n",
       "      <td>1</td>\n",
       "      <td>23</td>\n",
       "      <td>16</td>\n",
       "      <td>11</td>\n",
       "      <td>...</td>\n",
       "      <td>0</td>\n",
       "      <td>0</td>\n",
       "      <td>0</td>\n",
       "      <td>0</td>\n",
       "      <td>0</td>\n",
       "      <td>1</td>\n",
       "      <td>0</td>\n",
       "      <td>0</td>\n",
       "      <td>0</td>\n",
       "      <td>1</td>\n",
       "    </tr>\n",
       "    <tr>\n",
       "      <th>20s</th>\n",
       "      <td>9</td>\n",
       "      <td>17</td>\n",
       "      <td>1</td>\n",
       "      <td>11</td>\n",
       "      <td>5</td>\n",
       "      <td>10</td>\n",
       "      <td>11</td>\n",
       "      <td>136</td>\n",
       "      <td>44</td>\n",
       "      <td>31</td>\n",
       "      <td>...</td>\n",
       "      <td>0</td>\n",
       "      <td>1</td>\n",
       "      <td>1</td>\n",
       "      <td>0</td>\n",
       "      <td>0</td>\n",
       "      <td>0</td>\n",
       "      <td>0</td>\n",
       "      <td>1</td>\n",
       "      <td>3</td>\n",
       "      <td>0</td>\n",
       "    </tr>\n",
       "    <tr>\n",
       "      <th>30s</th>\n",
       "      <td>13</td>\n",
       "      <td>0</td>\n",
       "      <td>4</td>\n",
       "      <td>0</td>\n",
       "      <td>0</td>\n",
       "      <td>10</td>\n",
       "      <td>0</td>\n",
       "      <td>156</td>\n",
       "      <td>16</td>\n",
       "      <td>6</td>\n",
       "      <td>...</td>\n",
       "      <td>1</td>\n",
       "      <td>0</td>\n",
       "      <td>0</td>\n",
       "      <td>6</td>\n",
       "      <td>15</td>\n",
       "      <td>0</td>\n",
       "      <td>1</td>\n",
       "      <td>0</td>\n",
       "      <td>0</td>\n",
       "      <td>0</td>\n",
       "    </tr>\n",
       "  </tbody>\n",
       "</table>\n",
       "<p>3 rows × 8143 columns</p>\n",
       "</div>"
      ],
      "text/plain": [
       "text_length  4       5       6       7       8       9       10      11      \\\n",
       "AgeGroup                                                                      \n",
       "10s               4       1       2       0       0       1       1      23   \n",
       "20s               9      17       1      11       5      10      11     136   \n",
       "30s              13       0       4       0       0      10       0     156   \n",
       "\n",
       "text_length  12      13      ...  92767   100146  104801  107585  122228  \\\n",
       "AgeGroup                     ...                                           \n",
       "10s              16      11  ...       0       0       0       0       0   \n",
       "20s              44      31  ...       0       1       1       0       0   \n",
       "30s              16       6  ...       1       0       0       6      15   \n",
       "\n",
       "text_length  126168  128462  131862  207078  620448  \n",
       "AgeGroup                                             \n",
       "10s               1       0       0       0       1  \n",
       "20s               0       0       1       3       0  \n",
       "30s               0       1       0       0       0  \n",
       "\n",
       "[3 rows x 8143 columns]"
      ]
     },
     "execution_count": 35,
     "metadata": {},
     "output_type": "execute_result"
    }
   ],
   "source": [
    "pd.crosstab(downsampled.AgeGroup,downsampled.text_length)"
   ]
  },
  {
   "cell_type": "code",
   "execution_count": 36,
   "metadata": {},
   "outputs": [],
   "source": [
    "labels=['under1K','1kTo5k','5kTo10k','10Kto100K','100kAbove']\n",
    "downsampled['text_length']=pd.cut(downsampled['text_length'],bins=[1,1000,5000,10000,100000,900000],labels=labels,right=False)"
   ]
  },
  {
   "cell_type": "code",
   "execution_count": 37,
   "metadata": {},
   "outputs": [
    {
     "data": {
      "text/html": [
       "<div>\n",
       "<style scoped>\n",
       "    .dataframe tbody tr th:only-of-type {\n",
       "        vertical-align: middle;\n",
       "    }\n",
       "\n",
       "    .dataframe tbody tr th {\n",
       "        vertical-align: top;\n",
       "    }\n",
       "\n",
       "    .dataframe thead th {\n",
       "        text-align: right;\n",
       "    }\n",
       "</style>\n",
       "<table border=\"1\" class=\"dataframe\">\n",
       "  <thead>\n",
       "    <tr style=\"text-align: right;\">\n",
       "      <th>text_length</th>\n",
       "      <th>under1K</th>\n",
       "      <th>1kTo5k</th>\n",
       "      <th>5kTo10k</th>\n",
       "      <th>10Kto100K</th>\n",
       "      <th>100kAbove</th>\n",
       "    </tr>\n",
       "    <tr>\n",
       "      <th>AgeGroup</th>\n",
       "      <th></th>\n",
       "      <th></th>\n",
       "      <th></th>\n",
       "      <th></th>\n",
       "      <th></th>\n",
       "    </tr>\n",
       "  </thead>\n",
       "  <tbody>\n",
       "    <tr>\n",
       "      <th>10s</th>\n",
       "      <td>47569</td>\n",
       "      <td>22178</td>\n",
       "      <td>951</td>\n",
       "      <td>189</td>\n",
       "      <td>2</td>\n",
       "    </tr>\n",
       "    <tr>\n",
       "      <th>20s</th>\n",
       "      <td>141888</td>\n",
       "      <td>79999</td>\n",
       "      <td>4828</td>\n",
       "      <td>872</td>\n",
       "      <td>6</td>\n",
       "    </tr>\n",
       "    <tr>\n",
       "      <th>30s</th>\n",
       "      <td>61031</td>\n",
       "      <td>36735</td>\n",
       "      <td>3110</td>\n",
       "      <td>620</td>\n",
       "      <td>22</td>\n",
       "    </tr>\n",
       "  </tbody>\n",
       "</table>\n",
       "</div>"
      ],
      "text/plain": [
       "text_length  under1K  1kTo5k  5kTo10k  10Kto100K  100kAbove\n",
       "AgeGroup                                                   \n",
       "10s            47569   22178      951        189          2\n",
       "20s           141888   79999     4828        872          6\n",
       "30s            61031   36735     3110        620         22"
      ]
     },
     "execution_count": 37,
     "metadata": {},
     "output_type": "execute_result"
    }
   ],
   "source": [
    "pd.crosstab(downsampled.AgeGroup,downsampled.text_length)"
   ]
  },
  {
   "cell_type": "markdown",
   "metadata": {},
   "source": [
    "- This again is creating a biased view.\n",
    "- majority of the blogs are short and under1k or under5k character length"
   ]
  },
  {
   "cell_type": "code",
   "execution_count": 38,
   "metadata": {},
   "outputs": [],
   "source": [
    "downsampled['text_length']=downsampled['text_length'].astype('object')"
   ]
  },
  {
   "cell_type": "code",
   "execution_count": 39,
   "metadata": {},
   "outputs": [],
   "source": [
    "#keeping raw data separate\n",
    "import copy\n",
    "\n",
    "data=copy.deepcopy(downsampled)"
   ]
  },
  {
   "cell_type": "code",
   "execution_count": 40,
   "metadata": {},
   "outputs": [
    {
     "name": "stdout",
     "output_type": "stream",
     "text": [
      "<class 'pandas.core.frame.DataFrame'>\n",
      "Int64Index: 400000 entries, 473784 to 40417\n",
      "Data columns (total 9 columns):\n",
      " #   Column       Non-Null Count   Dtype \n",
      "---  ------       --------------   ----- \n",
      " 0   id           400000 non-null  object\n",
      " 1   gender       400000 non-null  object\n",
      " 2   age          400000 non-null  object\n",
      " 3   topic        400000 non-null  object\n",
      " 4   sign         400000 non-null  object\n",
      " 5   date         400000 non-null  object\n",
      " 6   text         400000 non-null  object\n",
      " 7   AgeGroup     400000 non-null  object\n",
      " 8   text_length  400000 non-null  object\n",
      "dtypes: object(9)\n",
      "memory usage: 30.5+ MB\n"
     ]
    }
   ],
   "source": [
    "data.info()"
   ]
  },
  {
   "cell_type": "code",
   "execution_count": 41,
   "metadata": {},
   "outputs": [],
   "source": [
    "#dropping Id and Date as these two are not charateristics of the blogger\n",
    "#our goal is to predicts multiple features of the author of a given text\n",
    "\n",
    "data.drop(['id','date'],axis=1,inplace=True)"
   ]
  },
  {
   "cell_type": "code",
   "execution_count": 42,
   "metadata": {},
   "outputs": [
    {
     "name": "stdout",
     "output_type": "stream",
     "text": [
      "<class 'pandas.core.frame.DataFrame'>\n",
      "Int64Index: 400000 entries, 473784 to 40417\n",
      "Data columns (total 7 columns):\n",
      " #   Column       Non-Null Count   Dtype \n",
      "---  ------       --------------   ----- \n",
      " 0   gender       400000 non-null  object\n",
      " 1   age          400000 non-null  object\n",
      " 2   topic        400000 non-null  object\n",
      " 3   sign         400000 non-null  object\n",
      " 4   text         400000 non-null  object\n",
      " 5   AgeGroup     400000 non-null  object\n",
      " 6   text_length  400000 non-null  object\n",
      "dtypes: object(7)\n",
      "memory usage: 24.4+ MB\n"
     ]
    }
   ],
   "source": [
    "data.info()"
   ]
  },
  {
   "cell_type": "markdown",
   "metadata": {},
   "source": [
    "#### Data Preprocessing"
   ]
  },
  {
   "cell_type": "markdown",
   "metadata": {},
   "source": [
    "- Data cleansing by removing unwanted characters, spaces, stop words etc. Convert text to lowercase.\n",
    "- Target/label merger and transformation\n",
    "- Train and test split\n",
    "- Vectorisation, etc"
   ]
  },
  {
   "cell_type": "code",
   "execution_count": 43,
   "metadata": {},
   "outputs": [],
   "source": [
    "import re # regex\n",
    "#removing unwanted characters\n",
    "#removing numbers as well\n",
    "#data['processed_text']=data['text'].apply(lambda x: re.sub(r'[^A-Za-z0-9]+',' ',x))\n",
    "data['processed_text']=data['text'].apply(lambda x: re.sub(r'[^A-Za-z]+',' ',x))"
   ]
  },
  {
   "cell_type": "code",
   "execution_count": 44,
   "metadata": {},
   "outputs": [],
   "source": [
    "#converting to lower case\n",
    "data['processed_text']=data['processed_text'].apply(lambda x: x.lower())\n",
    "data['processed_text']=data['processed_text'].apply(lambda x: x.strip())"
   ]
  },
  {
   "cell_type": "markdown",
   "metadata": {},
   "source": [
    "- data converted to small case"
   ]
  },
  {
   "cell_type": "code",
   "execution_count": 45,
   "metadata": {},
   "outputs": [
    {
     "name": "stdout",
     "output_type": "stream",
     "text": [
      "             I went to a poetry reading today.   Not suspecting that I would be chosen, I entered a contest to win tickets to attend a reading by poets who were shortlisted to win the  urlLink Griffin Poetry Prize .   I won.    Initial reaction:  Yay! I won something!   (Right now you're thinking: geez, this girl is some crazed artsy-fartsy type who's going to go on and on about poetic form, provide you with some pretentious review of the poets' works, then tell you who she thinks should win the prizes and why, etc, etc. You are SO wrong...)    A couple minutes later:  Ummm...what am I going to do? I don't know much about poetry at all! I mean, there are some poems that I like, but I might be totally lost in there. I'd feel quite silly then, wouldn't I?  ---  I went to the poetry reading with my sister. I saw her dose off a couple times, but I stayed awake. I actually liked the experience as a whole, and even liked and appreciated (with my limited knowledge) some of the poems. Of course, a great deal went over my head, but hey, it was something new and it was free, so I'm not complaining.   Here's part of a poem that I enjoyed:   Whatever you meant to love, in meaning to  You changed yourself: you are not who you are,   Your soul cut moment to moment by a blade  Of fresh desire, the ground sown with abandoned skins.  And at your inmost circle, what? A core that is   Not one. Poor fool, you are divided at the heart,  Lost in its maze of chambers, blood, and love,  A heart that will one day beat you to death.   ~Excerpted from “Monologue for an Onion” published in Notes from the Divided Country: Poems by Suji Kwock Kim.           \n",
      "\n",
      "i went to a poetry reading today not suspecting that i would be chosen i entered a contest to win tickets to attend a reading by poets who were shortlisted to win the urllink griffin poetry prize i won initial reaction yay i won something right now you re thinking geez this girl is some crazed artsy fartsy type who s going to go on and on about poetic form provide you with some pretentious review of the poets works then tell you who she thinks should win the prizes and why etc etc you are so wrong a couple minutes later ummm what am i going to do i don t know much about poetry at all i mean there are some poems that i like but i might be totally lost in there i d feel quite silly then wouldn t i i went to the poetry reading with my sister i saw her dose off a couple times but i stayed awake i actually liked the experience as a whole and even liked and appreciated with my limited knowledge some of the poems of course a great deal went over my head but hey it was something new and it was free so i m not complaining here s part of a poem that i enjoyed whatever you meant to love in meaning to you changed yourself you are not who you are your soul cut moment to moment by a blade of fresh desire the ground sown with abandoned skins and at your inmost circle what a core that is not one poor fool you are divided at the heart lost in its maze of chambers blood and love a heart that will one day beat you to death excerpted from monologue for an onion published in notes from the divided country poems by suji kwock kim\n"
     ]
    }
   ],
   "source": [
    "print(data['text'].iloc[0])\n",
    "print()\n",
    "print(data['processed_text'].iloc[0])"
   ]
  },
  {
   "cell_type": "code",
   "execution_count": 46,
   "metadata": {},
   "outputs": [],
   "source": [
    "#removing stop words\n",
    "from nltk.corpus import stopwords\n",
    "stopwords=set(stopwords.words('English'))"
   ]
  },
  {
   "cell_type": "code",
   "execution_count": 47,
   "metadata": {},
   "outputs": [],
   "source": [
    "data['processed_text']=data['processed_text'].apply(lambda x: ' '.join([words \n",
    "                                                                        for words in x.split() \n",
    "                                                                        if words not in stopwords\n",
    "                                                                       ]\n",
    "                                                                      )\n",
    "                                                   )"
   ]
  },
  {
   "cell_type": "code",
   "execution_count": 48,
   "metadata": {},
   "outputs": [],
   "source": [
    "#making a label column, kept age group instead of age\n",
    "#not keeping text length as its scwed towards short blogs\n",
    "\n",
    "#keeping gender out as blogging is more gender neutral profession and less likely to impact the intellectual result of blog\n",
    "\n",
    "#data['labels']=data.apply(lambda col: [col['AgeGroup'],col['topic'],col['sign']], axis=1)\n",
    "data['labels']=data.apply(lambda col: [col['gender'],col['sign'],str(col['AgeGroup']),col['topic']], axis=1)"
   ]
  },
  {
   "cell_type": "code",
   "execution_count": 49,
   "metadata": {},
   "outputs": [
    {
     "data": {
      "text/html": [
       "<div>\n",
       "<style scoped>\n",
       "    .dataframe tbody tr th:only-of-type {\n",
       "        vertical-align: middle;\n",
       "    }\n",
       "\n",
       "    .dataframe tbody tr th {\n",
       "        vertical-align: top;\n",
       "    }\n",
       "\n",
       "    .dataframe thead th {\n",
       "        text-align: right;\n",
       "    }\n",
       "</style>\n",
       "<table border=\"1\" class=\"dataframe\">\n",
       "  <thead>\n",
       "    <tr style=\"text-align: right;\">\n",
       "      <th></th>\n",
       "      <th>gender</th>\n",
       "      <th>age</th>\n",
       "      <th>topic</th>\n",
       "      <th>sign</th>\n",
       "      <th>text</th>\n",
       "      <th>AgeGroup</th>\n",
       "      <th>text_length</th>\n",
       "      <th>processed_text</th>\n",
       "      <th>labels</th>\n",
       "    </tr>\n",
       "  </thead>\n",
       "  <tbody>\n",
       "    <tr>\n",
       "      <th>473784</th>\n",
       "      <td>female</td>\n",
       "      <td>27</td>\n",
       "      <td>Environment</td>\n",
       "      <td>Pisces</td>\n",
       "      <td>I went to a poetry reading today....</td>\n",
       "      <td>20s</td>\n",
       "      <td>1kTo5k</td>\n",
       "      <td>went poetry reading today suspecting would cho...</td>\n",
       "      <td>[female, Pisces, 20s, Environment]</td>\n",
       "    </tr>\n",
       "    <tr>\n",
       "      <th>302368</th>\n",
       "      <td>male</td>\n",
       "      <td>24</td>\n",
       "      <td>Environment</td>\n",
       "      <td>Gemini</td>\n",
       "      <td>urlLink    This is mostly a ...</td>\n",
       "      <td>20s</td>\n",
       "      <td>under1K</td>\n",
       "      <td>urllink mostly test picture see things work nb...</td>\n",
       "      <td>[male, Gemini, 20s, Environment]</td>\n",
       "    </tr>\n",
       "    <tr>\n",
       "      <th>303339</th>\n",
       "      <td>male</td>\n",
       "      <td>23</td>\n",
       "      <td>Environment</td>\n",
       "      <td>Scorpio</td>\n",
       "      <td>I would like to clarify that I am n...</td>\n",
       "      <td>20s</td>\n",
       "      <td>under1K</td>\n",
       "      <td>would like clarify sagitarious born year money...</td>\n",
       "      <td>[male, Scorpio, 20s, Environment]</td>\n",
       "    </tr>\n",
       "    <tr>\n",
       "      <th>148655</th>\n",
       "      <td>female</td>\n",
       "      <td>33</td>\n",
       "      <td>Environment</td>\n",
       "      <td>Virgo</td>\n",
       "      <td>Now you can peek mine.  Ah heh, ah heh-...</td>\n",
       "      <td>30s</td>\n",
       "      <td>under1K</td>\n",
       "      <td>peek mine ah heh ah heh heh heh anyway urllink...</td>\n",
       "      <td>[female, Virgo, 30s, Environment]</td>\n",
       "    </tr>\n",
       "    <tr>\n",
       "      <th>303257</th>\n",
       "      <td>male</td>\n",
       "      <td>23</td>\n",
       "      <td>Environment</td>\n",
       "      <td>Scorpio</td>\n",
       "      <td>Many thanks for all of the birthday...</td>\n",
       "      <td>20s</td>\n",
       "      <td>under1K</td>\n",
       "      <td>many thanks birthday wishes think dan might wa...</td>\n",
       "      <td>[male, Scorpio, 20s, Environment]</td>\n",
       "    </tr>\n",
       "  </tbody>\n",
       "</table>\n",
       "</div>"
      ],
      "text/plain": [
       "        gender age        topic     sign  \\\n",
       "473784  female  27  Environment   Pisces   \n",
       "302368    male  24  Environment   Gemini   \n",
       "303339    male  23  Environment  Scorpio   \n",
       "148655  female  33  Environment    Virgo   \n",
       "303257    male  23  Environment  Scorpio   \n",
       "\n",
       "                                                     text AgeGroup  \\\n",
       "473784               I went to a poetry reading today....      20s   \n",
       "302368                    urlLink    This is mostly a ...      20s   \n",
       "303339             I would like to clarify that I am n...      20s   \n",
       "148655         Now you can peek mine.  Ah heh, ah heh-...      30s   \n",
       "303257             Many thanks for all of the birthday...      20s   \n",
       "\n",
       "       text_length                                     processed_text  \\\n",
       "473784      1kTo5k  went poetry reading today suspecting would cho...   \n",
       "302368     under1K  urllink mostly test picture see things work nb...   \n",
       "303339     under1K  would like clarify sagitarious born year money...   \n",
       "148655     under1K  peek mine ah heh ah heh heh heh anyway urllink...   \n",
       "303257     under1K  many thanks birthday wishes think dan might wa...   \n",
       "\n",
       "                                    labels  \n",
       "473784  [female, Pisces, 20s, Environment]  \n",
       "302368    [male, Gemini, 20s, Environment]  \n",
       "303339   [male, Scorpio, 20s, Environment]  \n",
       "148655   [female, Virgo, 30s, Environment]  \n",
       "303257   [male, Scorpio, 20s, Environment]  "
      ]
     },
     "execution_count": 49,
     "metadata": {},
     "output_type": "execute_result"
    }
   ],
   "source": [
    "data.head()"
   ]
  },
  {
   "cell_type": "code",
   "execution_count": 50,
   "metadata": {},
   "outputs": [],
   "source": [
    "data=data[['processed_text','labels']]"
   ]
  },
  {
   "cell_type": "code",
   "execution_count": 51,
   "metadata": {
    "scrolled": true
   },
   "outputs": [
    {
     "data": {
      "text/html": [
       "<div>\n",
       "<style scoped>\n",
       "    .dataframe tbody tr th:only-of-type {\n",
       "        vertical-align: middle;\n",
       "    }\n",
       "\n",
       "    .dataframe tbody tr th {\n",
       "        vertical-align: top;\n",
       "    }\n",
       "\n",
       "    .dataframe thead th {\n",
       "        text-align: right;\n",
       "    }\n",
       "</style>\n",
       "<table border=\"1\" class=\"dataframe\">\n",
       "  <thead>\n",
       "    <tr style=\"text-align: right;\">\n",
       "      <th></th>\n",
       "      <th>processed_text</th>\n",
       "      <th>labels</th>\n",
       "    </tr>\n",
       "  </thead>\n",
       "  <tbody>\n",
       "    <tr>\n",
       "      <th>473784</th>\n",
       "      <td>went poetry reading today suspecting would cho...</td>\n",
       "      <td>[female, Pisces, 20s, Environment]</td>\n",
       "    </tr>\n",
       "    <tr>\n",
       "      <th>302368</th>\n",
       "      <td>urllink mostly test picture see things work nb...</td>\n",
       "      <td>[male, Gemini, 20s, Environment]</td>\n",
       "    </tr>\n",
       "    <tr>\n",
       "      <th>303339</th>\n",
       "      <td>would like clarify sagitarious born year money...</td>\n",
       "      <td>[male, Scorpio, 20s, Environment]</td>\n",
       "    </tr>\n",
       "    <tr>\n",
       "      <th>148655</th>\n",
       "      <td>peek mine ah heh ah heh heh heh anyway urllink...</td>\n",
       "      <td>[female, Virgo, 30s, Environment]</td>\n",
       "    </tr>\n",
       "    <tr>\n",
       "      <th>303257</th>\n",
       "      <td>many thanks birthday wishes think dan might wa...</td>\n",
       "      <td>[male, Scorpio, 20s, Environment]</td>\n",
       "    </tr>\n",
       "  </tbody>\n",
       "</table>\n",
       "</div>"
      ],
      "text/plain": [
       "                                           processed_text  \\\n",
       "473784  went poetry reading today suspecting would cho...   \n",
       "302368  urllink mostly test picture see things work nb...   \n",
       "303339  would like clarify sagitarious born year money...   \n",
       "148655  peek mine ah heh ah heh heh heh anyway urllink...   \n",
       "303257  many thanks birthday wishes think dan might wa...   \n",
       "\n",
       "                                    labels  \n",
       "473784  [female, Pisces, 20s, Environment]  \n",
       "302368    [male, Gemini, 20s, Environment]  \n",
       "303339   [male, Scorpio, 20s, Environment]  \n",
       "148655   [female, Virgo, 30s, Environment]  \n",
       "303257   [male, Scorpio, 20s, Environment]  "
      ]
     },
     "execution_count": 51,
     "metadata": {},
     "output_type": "execute_result"
    }
   ],
   "source": [
    "data.head()"
   ]
  },
  {
   "cell_type": "code",
   "execution_count": 52,
   "metadata": {},
   "outputs": [],
   "source": [
    "\n",
    "#not able to train model because of memory issue\n",
    "#data=data.sample(100000)\n",
    "data=data.head(100000)"
   ]
  },
  {
   "cell_type": "code",
   "execution_count": 53,
   "metadata": {},
   "outputs": [],
   "source": [
    "X=data['processed_text']\n",
    "y=data['labels']"
   ]
  },
  {
   "cell_type": "code",
   "execution_count": 54,
   "metadata": {},
   "outputs": [
    {
     "data": {
      "text/plain": [
       "(100000,)"
      ]
     },
     "execution_count": 54,
     "metadata": {},
     "output_type": "execute_result"
    }
   ],
   "source": [
    "X.shape"
   ]
  },
  {
   "cell_type": "code",
   "execution_count": 55,
   "metadata": {},
   "outputs": [],
   "source": [
    "from sklearn.feature_extraction.text import CountVectorizer"
   ]
  },
  {
   "cell_type": "code",
   "execution_count": null,
   "metadata": {},
   "outputs": [],
   "source": []
  },
  {
   "cell_type": "code",
   "execution_count": null,
   "metadata": {},
   "outputs": [],
   "source": []
  },
  {
   "cell_type": "code",
   "execution_count": 56,
   "metadata": {},
   "outputs": [],
   "source": [
    "label_counts=dict()\n",
    "\n",
    "for labels in data.labels.values:\n",
    "    for label in labels:\n",
    "        if label in label_counts:\n",
    "            label_counts[label]+=1\n",
    "        else:\n",
    "            label_counts[label]=1"
   ]
  },
  {
   "cell_type": "code",
   "execution_count": 57,
   "metadata": {},
   "outputs": [
    {
     "data": {
      "text/plain": [
       "{'female': 40005,\n",
       " 'Pisces': 8561,\n",
       " '20s': 62010,\n",
       " 'Environment': 10000,\n",
       " 'male': 59995,\n",
       " 'Gemini': 6992,\n",
       " 'Scorpio': 11298,\n",
       " 'Virgo': 9623,\n",
       " '30s': 18821,\n",
       " 'Sagittarius': 5083,\n",
       " '10s': 19169,\n",
       " 'Libra': 9150,\n",
       " 'Aquarius': 9483,\n",
       " 'Taurus': 11583,\n",
       " 'Cancer': 9168,\n",
       " 'Capricorn': 7098,\n",
       " 'Tourism': 10000,\n",
       " 'Aries': 7168,\n",
       " 'Leo': 4793,\n",
       " 'Maritime': 10000,\n",
       " 'Chemicals': 10000,\n",
       " 'Construction': 10000,\n",
       " 'Manufacturing': 10000,\n",
       " 'RealEstate': 10000,\n",
       " 'Biotech': 10000,\n",
       " 'Agriculture': 10000,\n",
       " 'Advertising': 10000}"
      ]
     },
     "execution_count": 57,
     "metadata": {},
     "output_type": "execute_result"
    }
   ],
   "source": [
    "label_counts"
   ]
  },
  {
   "cell_type": "code",
   "execution_count": 58,
   "metadata": {},
   "outputs": [],
   "source": [
    "from sklearn.preprocessing import MultiLabelBinarizer\n",
    "binarizer=MultiLabelBinarizer(classes=sorted(label_counts.keys()))"
   ]
  },
  {
   "cell_type": "code",
   "execution_count": 59,
   "metadata": {},
   "outputs": [],
   "source": [
    "y=binarizer.fit_transform(data.labels)"
   ]
  },
  {
   "cell_type": "code",
   "execution_count": 60,
   "metadata": {},
   "outputs": [
    {
     "data": {
      "text/plain": [
       "(100000, 27)"
      ]
     },
     "execution_count": 60,
     "metadata": {},
     "output_type": "execute_result"
    }
   ],
   "source": [
    "y.shape"
   ]
  },
  {
   "cell_type": "code",
   "execution_count": 61,
   "metadata": {},
   "outputs": [
    {
     "name": "stdout",
     "output_type": "stream",
     "text": [
      "Training utterances: 85000\n",
      "Validation utterances: 15000\n"
     ]
    }
   ],
   "source": [
    "X_train, X_test, y_train, y_test = train_test_split(\n",
    "    X, y, \n",
    "    test_size=0.15, random_state=0)\n",
    "print('Training utterances: {}'.format(X_train.shape[0]))\n",
    "print('Validation utterances: {}'.format(X_test.shape[0]))"
   ]
  },
  {
   "cell_type": "code",
   "execution_count": 62,
   "metadata": {},
   "outputs": [],
   "source": [
    "#https://scikit-learn.org/stable/modules/naive_bayes.html#multinomial-naive-bayes\n",
    "\n",
    "#MultinomialNB implements the naive Bayes algorithm for multinomially distributed data, \n",
    "# and is one of the two classic naive Bayes variants used in text classification \n",
    "#(where the data are typically represented as word vector counts,\n",
    "# although tf-idf vectors are also known to work well in practice). \n",
    "\n",
    "\n",
    "#vectorizer=CountVectorizer(binary=True, ngram_range=(1,2))\n",
    "#X=vectorizer.fit_transform(X)\n",
    "\n",
    "#vectorizer = TfidfVectorizer()\n",
    "#vectorizer.fit(X)\n",
    "#X = vectorizer.transform(X)\n",
    "\n",
    "# We only fit on our X_train just as we do for the other models we have worked with in python. We want to train the model on just the training data and then all we want to do with the testing data is to transform it based on our training data. We still need both of these to be dataframes so we convert our matrices made in the fit to dense matrices so they can be made into dataframes easily.\n",
    "# we took whole X as we will be taking a small sample downwards due to computation issues\n",
    "\n",
    "#Attempted with countvectorizer as well as tfidf"
   ]
  },
  {
   "cell_type": "code",
   "execution_count": 63,
   "metadata": {},
   "outputs": [
    {
     "data": {
      "text/plain": [
       "CountVectorizer(analyzer='word', binary=True, decode_error='strict',\n",
       "                dtype=<class 'numpy.int64'>, encoding='utf-8', input='content',\n",
       "                lowercase=True, max_df=1.0, max_features=None, min_df=1,\n",
       "                ngram_range=(1, 2), preprocessor=None, stop_words=None,\n",
       "                strip_accents=None, token_pattern='(?u)\\\\b\\\\w\\\\w+\\\\b',\n",
       "                tokenizer=None, vocabulary=None)"
      ]
     },
     "execution_count": 63,
     "metadata": {},
     "output_type": "execute_result"
    }
   ],
   "source": [
    "vectorizer=CountVectorizer(binary=True, ngram_range=(1,2))\n",
    "#vectorizer = TfidfVectorizer(binary=True, ngram_range=(1,2))\n",
    "vectorizer.fit(X_train)"
   ]
  },
  {
   "cell_type": "code",
   "execution_count": 64,
   "metadata": {},
   "outputs": [
    {
     "data": {
      "text/plain": [
       "(<85000x1348533 sparse matrix of type '<class 'numpy.int64'>'\n",
       " \twith 15388883 stored elements in Compressed Sparse Row format>,\n",
       " <15000x1348533 sparse matrix of type '<class 'numpy.int64'>'\n",
       " \twith 2715709 stored elements in Compressed Sparse Row format>)"
      ]
     },
     "execution_count": 64,
     "metadata": {},
     "output_type": "execute_result"
    }
   ],
   "source": [
    "X_train = vectorizer.transform(X_train)\n",
    "X_test = vectorizer.transform(X_test)\n",
    "X_train, X_test"
   ]
  },
  {
   "cell_type": "code",
   "execution_count": 65,
   "metadata": {},
   "outputs": [
    {
     "data": {
      "text/plain": [
       "(85000, 1348533)"
      ]
     },
     "execution_count": 65,
     "metadata": {},
     "output_type": "execute_result"
    }
   ],
   "source": [
    "X_train.shape"
   ]
  },
  {
   "cell_type": "markdown",
   "metadata": {},
   "source": [
    "- After multiple iterations removed chi2 for feature selection as its hugely impacting the results if we reduce the size significantly.\n",
    "- Created the data set with all it has."
   ]
  },
  {
   "cell_type": "code",
   "execution_count": 66,
   "metadata": {},
   "outputs": [],
   "source": [
    "#from sklearn.feature_selection import SelectKBest, chi2\n",
    "\n",
    "#ch2 = SelectKBest(chi2, k=100000)\n",
    "#X_train = ch2.fit_transform(X_train, y_train)\n",
    "#X_test = ch2.transform(X_test)\n",
    "\n",
    "#X_train, X_test"
   ]
  },
  {
   "cell_type": "code",
   "execution_count": 67,
   "metadata": {},
   "outputs": [
    {
     "data": {
      "text/plain": [
       "(85000, 1348533)"
      ]
     },
     "execution_count": 67,
     "metadata": {},
     "output_type": "execute_result"
    }
   ],
   "source": [
    "X_train.shape"
   ]
  },
  {
   "cell_type": "code",
   "execution_count": 68,
   "metadata": {
    "scrolled": true
   },
   "outputs": [
    {
     "data": {
      "text/plain": [
       "(85000, 27)"
      ]
     },
     "execution_count": 68,
     "metadata": {},
     "output_type": "execute_result"
    }
   ],
   "source": [
    "y_train.shape"
   ]
  },
  {
   "cell_type": "code",
   "execution_count": null,
   "metadata": {},
   "outputs": [],
   "source": []
  },
  {
   "cell_type": "code",
   "execution_count": null,
   "metadata": {},
   "outputs": [],
   "source": []
  },
  {
   "cell_type": "markdown",
   "metadata": {},
   "source": [
    "- Creating model with MultinomialNB as base classifier and OneVsRestClassifer for capturing multiple options"
   ]
  },
  {
   "cell_type": "code",
   "execution_count": 69,
   "metadata": {},
   "outputs": [
    {
     "name": "stdout",
     "output_type": "stream",
     "text": [
      "0.8254666666666667\n"
     ]
    }
   ],
   "source": [
    "from sklearn.naive_bayes import MultinomialNB\n",
    "from sklearn.metrics import accuracy_score\n",
    "from sklearn.multiclass import OneVsRestClassifier\n",
    "\n",
    "multuNB = OneVsRestClassifier(MultinomialNB())\n",
    "multuNB.fit(X_train, y_train)\n",
    "\n",
    "pred = multuNB.predict(X_test)\n",
    "print(accuracy_score(y_test, pred))"
   ]
  },
  {
   "cell_type": "code",
   "execution_count": 70,
   "metadata": {
    "scrolled": false
   },
   "outputs": [
    {
     "name": "stdout",
     "output_type": "stream",
     "text": [
      "True labels:\t10s,Aries,Tourism,female\n",
      "Predicted labels:\t10s,Aries,Tourism,female\n",
      "\n",
      "\n",
      "True labels:\t30s,Biotech,Capricorn,female\n",
      "Predicted labels:\t30s,Biotech,Capricorn,female\n",
      "\n",
      "\n",
      "True labels:\t20s,Agriculture,Capricorn,female\n",
      "Predicted labels:\t20s,Agriculture,Capricorn,female\n",
      "\n",
      "\n",
      "True labels:\t20s,Agriculture,Capricorn,female\n",
      "Predicted labels:\t20s,Agriculture,Capricorn,female\n",
      "\n",
      "\n",
      "True labels:\t20s,Biotech,Capricorn,male\n",
      "Predicted labels:\t20s,Biotech,Capricorn,male\n",
      "\n",
      "\n",
      "Accuracy score:  0.8254666666666667\n",
      "F1 score:  0.9197173327309981\n",
      "Average precision score:  0.8541400105521758\n",
      "Average recall score:  0.9500833333333333\n"
     ]
    }
   ],
   "source": [
    "y_pred=multuNB.predict(X_test)\n",
    "t = 0.7 # threshold value\n",
    "y_pred_new = (y_pred >= t).astype(int)\n",
    "\n",
    "y_pred_inversed = binarizer.inverse_transform(y_pred_new)\n",
    "y_test_inversed = binarizer.inverse_transform(y_test)\n",
    "\n",
    "import random\n",
    "for i in range(5):\n",
    "    ranVal=random.randint(1,101)\n",
    "    print('True labels:\\t{}\\nPredicted labels:\\t{}\\n\\n'.format(\n",
    "        ','.join(y_test_inversed[ranVal]),\n",
    "        ','.join(y_pred_inversed[ranVal])\n",
    "    ))\n",
    "\n",
    "from sklearn.metrics import accuracy_score\n",
    "from sklearn.metrics import f1_score\n",
    "from sklearn.metrics import average_precision_score\n",
    "from sklearn.metrics import recall_score\n",
    "\n",
    "def print_evaluation_scores(Ytest, Ypred):\n",
    "    print('Accuracy score: ', accuracy_score(Ytest, Ypred))\n",
    "    print('F1 score: ', f1_score(Ytest, Ypred, average='micro'))\n",
    "    print('Average precision score: ', average_precision_score(Ytest, Ypred, average='micro'))\n",
    "    print('Average recall score: ', recall_score(Ytest, Ypred, average='micro'))\n",
    "\n",
    "print_evaluation_scores(y_test, y_pred)"
   ]
  },
  {
   "cell_type": "code",
   "execution_count": 71,
   "metadata": {},
   "outputs": [
    {
     "name": "stderr",
     "output_type": "stream",
     "text": [
      "C:\\ProgramData\\Anaconda3\\lib\\site-packages\\sklearn\\externals\\joblib\\__init__.py:15: FutureWarning: sklearn.externals.joblib is deprecated in 0.21 and will be removed in 0.23. Please import this functionality directly from joblib, which can be installed with: pip install joblib. If this warning is raised when loading pickled models, you may need to re-serialize those models with scikit-learn 0.21+.\n",
      "  warnings.warn(msg, category=FutureWarning)\n"
     ]
    },
    {
     "data": {
      "text/plain": [
       "['multuNB_V1.pkl']"
      ]
     },
     "execution_count": 71,
     "metadata": {},
     "output_type": "execute_result"
    }
   ],
   "source": [
    "from sklearn.externals import joblib \n",
    "  \n",
    "# Save the model as a pickle in a file \n",
    "#joblib.dump(model, 'part1_v0.pkl') \n",
    "joblib.dump(multuNB, 'multuNB_V1.pkl') "
   ]
  },
  {
   "cell_type": "code",
   "execution_count": null,
   "metadata": {},
   "outputs": [],
   "source": []
  },
  {
   "cell_type": "code",
   "execution_count": null,
   "metadata": {},
   "outputs": [],
   "source": []
  },
  {
   "cell_type": "code",
   "execution_count": null,
   "metadata": {},
   "outputs": [],
   "source": []
  },
  {
   "cell_type": "markdown",
   "metadata": {},
   "source": [
    "- Using BernoulliNB"
   ]
  },
  {
   "cell_type": "code",
   "execution_count": 72,
   "metadata": {},
   "outputs": [
    {
     "name": "stdout",
     "output_type": "stream",
     "text": [
      "0.42293333333333333\n"
     ]
    }
   ],
   "source": [
    "from sklearn.naive_bayes import BernoulliNB\n",
    "from sklearn.metrics import accuracy_score\n",
    "\n",
    "\n",
    "BernNB = OneVsRestClassifier(BernoulliNB())\n",
    "BernNB.fit(X_train, y_train)\n",
    "\n",
    "pred = BernNB.predict(X_test)\n",
    "print(accuracy_score(y_test, pred))"
   ]
  },
  {
   "cell_type": "code",
   "execution_count": 73,
   "metadata": {
    "scrolled": false
   },
   "outputs": [
    {
     "name": "stdout",
     "output_type": "stream",
     "text": [
      "True labels:\t10s,Aries,Maritime,male\n",
      "Predicted labels:\t10s,Aries,Maritime,male\n",
      "\n",
      "\n",
      "True labels:\t20s,Agriculture,Aquarius,male\n",
      "Predicted labels:\t20s,Agriculture,Aquarius,male\n",
      "\n",
      "\n",
      "True labels:\t20s,Environment,Scorpio,male\n",
      "Predicted labels:\t20s,Environment,Scorpio,male\n",
      "\n",
      "\n",
      "True labels:\t10s,Maritime,Scorpio,male\n",
      "Predicted labels:\t10s,Maritime,Scorpio,male\n",
      "\n",
      "\n",
      "True labels:\t30s,RealEstate,Virgo,male\n",
      "Predicted labels:\t30s,RealEstate,Virgo,male\n",
      "\n",
      "\n",
      "Accuracy score:  0.42293333333333333\n",
      "F1 score:  0.7618246611925675\n",
      "Average precision score:  0.6210061056010617\n",
      "Average recall score:  0.7321833333333333\n"
     ]
    }
   ],
   "source": [
    "y_pred=BernNB.predict(X_test)\n",
    "t = 0.3 # threshold value\n",
    "y_pred_new = (y_pred >= t).astype(int)\n",
    "y_pred_inversed = binarizer.inverse_transform(y_pred_new)\n",
    "y_test_inversed = binarizer.inverse_transform(y_test)\n",
    "\n",
    "for i in range(5):\n",
    "    ranVal=random.randint(1,101)\n",
    "    print('True labels:\\t{}\\nPredicted labels:\\t{}\\n\\n'.format(\n",
    "        ','.join(y_test_inversed[ranVal]),\n",
    "        ','.join(y_pred_inversed[ranVal])\n",
    "    ))\n",
    "\n",
    "\n",
    "print_evaluation_scores(y_test, y_pred)"
   ]
  },
  {
   "cell_type": "code",
   "execution_count": 74,
   "metadata": {},
   "outputs": [
    {
     "data": {
      "text/plain": [
       "['BernNB_V1.pkl']"
      ]
     },
     "execution_count": 74,
     "metadata": {},
     "output_type": "execute_result"
    }
   ],
   "source": [
    "from sklearn.externals import joblib \n",
    "  \n",
    "# Save the model as a pickle in a file \n",
    "#joblib.dump(model, 'part1_v0.pkl') \n",
    "joblib.dump(BernNB, 'BernNB_V1.pkl') "
   ]
  },
  {
   "cell_type": "code",
   "execution_count": 75,
   "metadata": {
    "scrolled": true
   },
   "outputs": [
    {
     "data": {
      "text/plain": [
       "array([0, 1, 0, 0, 0, 0, 0, 0, 0, 0, 0, 0, 1, 0, 0, 0, 0, 0, 1, 0, 0, 0,\n",
       "       0, 0, 0, 1, 0])"
      ]
     },
     "execution_count": 75,
     "metadata": {},
     "output_type": "execute_result"
    }
   ],
   "source": [
    "y_test[0]"
   ]
  },
  {
   "cell_type": "code",
   "execution_count": 76,
   "metadata": {},
   "outputs": [
    {
     "data": {
      "text/plain": [
       "('20s', 'Environment', 'Pisces', 'female')"
      ]
     },
     "execution_count": 76,
     "metadata": {},
     "output_type": "execute_result"
    }
   ],
   "source": [
    "y_test_inversed[0]"
   ]
  },
  {
   "cell_type": "code",
   "execution_count": null,
   "metadata": {},
   "outputs": [],
   "source": []
  },
  {
   "cell_type": "code",
   "execution_count": null,
   "metadata": {},
   "outputs": [],
   "source": []
  },
  {
   "cell_type": "code",
   "execution_count": null,
   "metadata": {},
   "outputs": [],
   "source": []
  },
  {
   "cell_type": "markdown",
   "metadata": {},
   "source": [
    "- Using RandomForestClassifer"
   ]
  },
  {
   "cell_type": "code",
   "execution_count": 79,
   "metadata": {},
   "outputs": [
    {
     "name": "stdout",
     "output_type": "stream",
     "text": [
      "0.0019333333333333333\n"
     ]
    }
   ],
   "source": [
    "from sklearn.multiclass import OneVsRestClassifier\n",
    "from sklearn.ensemble import RandomForestClassifier\n",
    "\n",
    "clsRan=RandomForestClassifier(n_estimators=10, max_depth=10,\n",
    "                             n_jobs=3,\n",
    "                             random_state=0)\n",
    "\n",
    "clsRan=OneVsRestClassifier(clsRan)\n",
    "\n",
    "clsRan.fit(X_train,y_train)\n",
    "\n",
    "pred = clsRan.predict(X_test)\n",
    "print(accuracy_score(y_test, pred))"
   ]
  },
  {
   "cell_type": "code",
   "execution_count": 80,
   "metadata": {},
   "outputs": [
    {
     "name": "stdout",
     "output_type": "stream",
     "text": [
      "True labels:\t20s,Biotech,Virgo,male\n",
      "Predicted labels:\t20s,male\n",
      "\n",
      "\n",
      "True labels:\t30s,Manufacturing,Sagittarius,male\n",
      "Predicted labels:\t20s,male\n",
      "\n",
      "\n",
      "True labels:\t20s,Agriculture,Pisces,male\n",
      "Predicted labels:\t20s,male\n",
      "\n",
      "\n",
      "True labels:\t10s,Aquarius,Chemicals,female\n",
      "Predicted labels:\t20s,male\n",
      "\n",
      "\n",
      "True labels:\t20s,Biotech,Capricorn,male\n",
      "Predicted labels:\t20s,male\n",
      "\n",
      "\n",
      "Accuracy score:  0.0019333333333333333\n",
      "F1 score:  0.41769194139599786\n",
      "Average precision score:  0.29720985761786783\n",
      "Average recall score:  0.3143166666666667\n"
     ]
    }
   ],
   "source": [
    "y_pred=clsRan.predict(X_test)\n",
    "t = 0.3 # threshold value\n",
    "y_pred_new = (y_pred >= t).astype(int)\n",
    "y_pred_inversed = binarizer.inverse_transform(y_pred_new)\n",
    "y_test_inversed = binarizer.inverse_transform(y_test)\n",
    "\n",
    "for i in range(5):\n",
    "    ranVal=random.randint(1,101)\n",
    "    print('True labels:\\t{}\\nPredicted labels:\\t{}\\n\\n'.format(\n",
    "        ','.join(y_test_inversed[ranVal]),\n",
    "        ','.join(y_pred_inversed[ranVal])\n",
    "    ))\n",
    "\n",
    "\n",
    "print_evaluation_scores(y_test, y_pred)"
   ]
  },
  {
   "cell_type": "code",
   "execution_count": 81,
   "metadata": {},
   "outputs": [
    {
     "data": {
      "text/plain": [
       "['RandomForestClf_V1.pkl']"
      ]
     },
     "execution_count": 81,
     "metadata": {},
     "output_type": "execute_result"
    }
   ],
   "source": [
    "from sklearn.externals import joblib \n",
    "  \n",
    "# Save the model as a pickle in a file \n",
    "#joblib.dump(model, 'part1_v0.pkl') \n",
    "joblib.dump(clsRan, 'RandomForestClf_V1.pkl') "
   ]
  },
  {
   "cell_type": "code",
   "execution_count": null,
   "metadata": {},
   "outputs": [],
   "source": []
  },
  {
   "cell_type": "markdown",
   "metadata": {},
   "source": [
    "- Not able to use dense models with such a huge size in my local system\n",
    "- to use Dense models we have to use chi2 to reduce the size from 1.3M cols to 5k/10k cols due to which its loosing lot of important data and leading to very low accuracy."
   ]
  },
  {
   "cell_type": "code",
   "execution_count": null,
   "metadata": {},
   "outputs": [],
   "source": []
  },
  {
   "cell_type": "code",
   "execution_count": 82,
   "metadata": {},
   "outputs": [
    {
     "data": {
      "text/plain": [
       "1128"
      ]
     },
     "execution_count": 82,
     "metadata": {},
     "output_type": "execute_result"
    }
   ],
   "source": [
    "import gc\n",
    "gc.collect()"
   ]
  },
  {
   "cell_type": "code",
   "execution_count": null,
   "metadata": {},
   "outputs": [],
   "source": []
  },
  {
   "cell_type": "code",
   "execution_count": null,
   "metadata": {},
   "outputs": [],
   "source": []
  },
  {
   "cell_type": "code",
   "execution_count": null,
   "metadata": {},
   "outputs": [],
   "source": []
  },
  {
   "cell_type": "code",
   "execution_count": 83,
   "metadata": {},
   "outputs": [],
   "source": [
    "#!pip install scikit-multilearn"
   ]
  },
  {
   "cell_type": "markdown",
   "metadata": {},
   "source": [
    "- Using KNN from Multi Learn"
   ]
  },
  {
   "cell_type": "code",
   "execution_count": 84,
   "metadata": {},
   "outputs": [
    {
     "data": {
      "text/plain": [
       "MLkNN(ignore_first_neighbours=0, k=20, s=1.0)"
      ]
     },
     "execution_count": 84,
     "metadata": {},
     "output_type": "execute_result"
    }
   ],
   "source": [
    "from skmultilearn.adapt import MLkNN\n",
    "classifier = MLkNN(k=20)\n",
    "\n",
    "\n",
    "classifier.fit(X_train,y_train)\n",
    "\n"
   ]
  },
  {
   "cell_type": "code",
   "execution_count": 85,
   "metadata": {
    "scrolled": false
   },
   "outputs": [
    {
     "name": "stdout",
     "output_type": "stream",
     "text": [
      "True labels:\t20s,Construction,Virgo,male\n",
      "Predicted labels:\t20s,Virgo,male\n",
      "\n",
      "\n",
      "True labels:\t20s,Scorpio,Tourism,male\n",
      "Predicted labels:\t20s,Biotech,Libra,male\n",
      "\n",
      "\n",
      "True labels:\t20s,Advertising,Gemini,female\n",
      "Predicted labels:\t20s,Gemini,female\n",
      "\n",
      "\n",
      "True labels:\t10s,Chemicals,Taurus,male\n",
      "Predicted labels:\t10s,Taurus,male\n",
      "\n",
      "\n",
      "True labels:\t10s,Biotech,Pisces,male\n",
      "Predicted labels:\t10s,Advertising,Taurus,male\n",
      "\n",
      "\n",
      "Accuracy score:  0.33153333333333335\n",
      "F1 score:  0.7011424481549597\n",
      "Average precision score:  0.5479708873488955\n",
      "Average recall score:  0.6449166666666667\n"
     ]
    }
   ],
   "source": [
    "\n",
    "\n",
    "y_pred=classifier.predict(X_test)\n",
    "t = 0.3 # threshold value\n",
    "y_pred_new = (y_pred >= t).astype(int)\n",
    "y_pred_inversed = binarizer.inverse_transform(y_pred_new)\n",
    "y_test_inversed = binarizer.inverse_transform(y_test)\n",
    "\n",
    "\n",
    "for i in range(5):\n",
    "    ranVal=random.randint(1,101)\n",
    "    print('True labels:\\t{}\\nPredicted labels:\\t{}\\n\\n'.format(\n",
    "        ','.join(y_test_inversed[ranVal]),\n",
    "        ','.join(y_pred_inversed[ranVal])\n",
    "    ))\n",
    "\n",
    "def print_evaluation_scores_2(Ytest, Ypred):\n",
    "    print('Accuracy score: ', accuracy_score(Ytest, Ypred))\n",
    "    print('F1 score: ', f1_score(Ytest, Ypred, average='micro'))\n",
    "    print('Average precision score: ', average_precision_score(Ytest, Ypred.toarray(), average='micro'))\n",
    "    print('Average recall score: ', recall_score(Ytest, Ypred, average='micro')) \n",
    "print_evaluation_scores_2(y_test, y_pred_new)"
   ]
  },
  {
   "cell_type": "code",
   "execution_count": 86,
   "metadata": {},
   "outputs": [
    {
     "data": {
      "text/plain": [
       "['MLkNN_v1.pkl']"
      ]
     },
     "execution_count": 86,
     "metadata": {},
     "output_type": "execute_result"
    }
   ],
   "source": [
    "from sklearn.externals import joblib \n",
    "  \n",
    "# Save the model as a pickle in a file \n",
    "#joblib.dump(model, 'part1_v0.pkl') \n",
    "joblib.dump(classifier, 'MLkNN_v1.pkl') "
   ]
  },
  {
   "cell_type": "code",
   "execution_count": null,
   "metadata": {},
   "outputs": [],
   "source": []
  },
  {
   "cell_type": "code",
   "execution_count": null,
   "metadata": {},
   "outputs": [],
   "source": []
  },
  {
   "cell_type": "code",
   "execution_count": null,
   "metadata": {},
   "outputs": [],
   "source": []
  },
  {
   "cell_type": "code",
   "execution_count": null,
   "metadata": {},
   "outputs": [],
   "source": []
  },
  {
   "cell_type": "code",
   "execution_count": null,
   "metadata": {},
   "outputs": [],
   "source": []
  },
  {
   "cell_type": "code",
   "execution_count": 87,
   "metadata": {},
   "outputs": [
    {
     "data": {
      "text/plain": [
       "40"
      ]
     },
     "execution_count": 87,
     "metadata": {},
     "output_type": "execute_result"
    }
   ],
   "source": [
    "import gc\n",
    "gc.collect()"
   ]
  },
  {
   "cell_type": "code",
   "execution_count": 88,
   "metadata": {},
   "outputs": [
    {
     "data": {
      "text/plain": [
       "OneVsRestClassifier(estimator=LogisticRegression(C=1.0, class_weight=None,\n",
       "                                                 dual=False, fit_intercept=True,\n",
       "                                                 intercept_scaling=1,\n",
       "                                                 l1_ratio=None, max_iter=1000,\n",
       "                                                 multi_class='auto',\n",
       "                                                 n_jobs=None, penalty='l2',\n",
       "                                                 random_state=None,\n",
       "                                                 solver='lbfgs', tol=0.0001,\n",
       "                                                 verbose=0, warm_start=False),\n",
       "                    n_jobs=None)"
      ]
     },
     "execution_count": 88,
     "metadata": {},
     "output_type": "execute_result"
    }
   ],
   "source": [
    "from sklearn.multiclass import OneVsRestClassifier\n",
    "from sklearn.linear_model import LogisticRegression\n",
    "\n",
    "model=LogisticRegression(solver='lbfgs', max_iter=1000)\n",
    "\n",
    "model=OneVsRestClassifier(model)\n",
    "\n",
    "model.fit(X_train,y_train)\n"
   ]
  },
  {
   "cell_type": "code",
   "execution_count": 89,
   "metadata": {
    "scrolled": false
   },
   "outputs": [
    {
     "name": "stdout",
     "output_type": "stream",
     "text": [
      "True labels:\t10s,RealEstate,Virgo,male\n",
      "Predicted labels:\t10s,RealEstate,Virgo,male\n",
      "\n",
      "\n",
      "True labels:\t20s,Environment,Scorpio,male\n",
      "Predicted labels:\t20s,Environment,Scorpio,male\n",
      "\n",
      "\n",
      "True labels:\t10s,Aries,Maritime,male\n",
      "Predicted labels:\t10s,Aries,Maritime,male\n",
      "\n",
      "\n",
      "True labels:\t20s,Scorpio,Tourism,male\n",
      "Predicted labels:\t20s,Scorpio,Tourism,male\n",
      "\n",
      "\n",
      "True labels:\t20s,Agriculture,Aquarius,male\n",
      "Predicted labels:\t20s,Agriculture,Aquarius,male\n",
      "\n",
      "\n",
      "Accuracy score:  0.9303333333333333\n",
      "F1 score:  0.9711843072322235\n",
      "Average precision score:  0.9495969311767468\n",
      "Average recall score:  0.9580166666666666\n"
     ]
    }
   ],
   "source": [
    "y_pred=model.predict(X_test)\n",
    "t = 0.4 # threshold value\n",
    "y_pred_new = (y_pred >= t).astype(int)\n",
    "y_pred_inversed = binarizer.inverse_transform(y_pred_new)\n",
    "y_test_inversed = binarizer.inverse_transform(y_test)\n",
    "\n",
    "\n",
    "for i in range(5):\n",
    "    ranVal=random.randint(1,101)\n",
    "    print('True labels:\\t{}\\nPredicted labels:\\t{}\\n\\n'.format(\n",
    "        ','.join(y_test_inversed[ranVal]),\n",
    "        ','.join(y_pred_inversed[ranVal])\n",
    "    ))\n",
    "\n",
    "print_evaluation_scores(y_test, y_pred)"
   ]
  },
  {
   "cell_type": "code",
   "execution_count": 90,
   "metadata": {},
   "outputs": [
    {
     "data": {
      "text/plain": [
       "['LogisticReg_v1.pkl']"
      ]
     },
     "execution_count": 90,
     "metadata": {},
     "output_type": "execute_result"
    }
   ],
   "source": [
    "joblib.dump(model,'LogisticReg_v1.pkl') "
   ]
  },
  {
   "cell_type": "code",
   "execution_count": null,
   "metadata": {},
   "outputs": [],
   "source": []
  },
  {
   "cell_type": "markdown",
   "metadata": {},
   "source": [
    " - We can observe we are able to get highest accuracy,precison,recall and F1 score for Logistic regression and Multinomial NB with OneVsRestClassifier.\n",
    " - True labels and predicted labels are very accurate.\n",
    " - Multinomial NB was much faster to compute compared to logistic regression but accuracies are better in Logistic regression"
   ]
  },
  {
   "cell_type": "code",
   "execution_count": null,
   "metadata": {},
   "outputs": [],
   "source": []
  }
 ],
 "metadata": {
  "kernelspec": {
   "display_name": "Python 3",
   "language": "python",
   "name": "python3"
  },
  "language_info": {
   "codemirror_mode": {
    "name": "ipython",
    "version": 3
   },
   "file_extension": ".py",
   "mimetype": "text/x-python",
   "name": "python",
   "nbconvert_exporter": "python",
   "pygments_lexer": "ipython3",
   "version": "3.7.7"
  }
 },
 "nbformat": 4,
 "nbformat_minor": 4
}
